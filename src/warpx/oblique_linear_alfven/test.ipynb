{
 "cells": [
  {
   "cell_type": "code",
   "execution_count": 5,
   "metadata": {},
   "outputs": [],
   "source": [
    "from main import AlfvenModes\n",
    "from pywarpx import picmi\n",
    "\n",
    "constants = picmi.constants"
   ]
  },
  {
   "cell_type": "code",
   "execution_count": 6,
   "metadata": {},
   "outputs": [
    {
     "name": "stdout",
     "output_type": "stream",
     "text": [
      "Numerical parameters:\n",
      "\tdt = 1.8e-03 s\n",
      "\ttotal steps = 25600\n",
      "\n",
      "Numerical parameters (Hybrid):\n",
      "\ttotal simulation time = 100.0 (t_ci)\n",
      "\ttime step = 0.00390625 (t_ci)\n",
      "\tCFL (with substeps) condition = 0.12\n",
      "\n",
      "Initializing simulation with input parameters:\n",
      "\tTe = 24.821 eV\n",
      "\tn = 1.0e+02 cm^-3\n",
      "\tB0 = 100.00 nT\n",
      "\tM/m = 1836\n",
      "\n",
      "Plasma parameters:\n",
      "\td_i = 2.3e+04 m\n",
      "\tt_ci = 4.6e-01 s\n",
      "\tv_ti = 4.9e+04 m/s\n",
      "\tvA = 2.2e+05 m/s\n",
      "\tvA/c = 0.000727373244724338\n",
      "\n"
     ]
    }
   ],
   "source": [
    "sim = AlfvenModes()"
   ]
  }
 ],
 "metadata": {
  "kernelspec": {
   "display_name": "Python 3",
   "language": "python",
   "name": "python3"
  },
  "language_info": {
   "codemirror_mode": {
    "name": "ipython",
    "version": 3
   },
   "file_extension": ".py",
   "mimetype": "text/x-python",
   "name": "python",
   "nbconvert_exporter": "python",
   "pygments_lexer": "ipython3",
   "version": "3.11.8"
  }
 },
 "nbformat": 4,
 "nbformat_minor": 2
}
