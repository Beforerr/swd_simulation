{
 "cells": [
  {
   "cell_type": "markdown",
   "metadata": {},
   "source": [
    "# Circularly polarized Alfvén waves\n",
    "\n",
    "```\n",
    "#define DBY (-pert*(sin(kx[0]*x+phi[0])+sin(kx[1]*x+phi[1])+sin(kx[2]*x+phi[2])))\n",
    "#define DBZ (pert*(cos(kx[0]*x+phi[0])+cos(kx[1]*x+phi[1])+cos(kx[2]*x+phi[2])))\n",
    "```"
   ]
  },
  {
   "cell_type": "code",
   "execution_count": 1,
   "metadata": {},
   "outputs": [],
   "source": [
    "import numpy as np\n",
    "from pywarpx import picmi\n",
    "from space_analysis.simulation.warpx import HybridSimulation"
   ]
  },
  {
   "cell_type": "code",
   "execution_count": 2,
   "metadata": {},
   "outputs": [],
   "source": [
    "constants = picmi.constants"
   ]
  },
  {
   "cell_type": "code",
   "execution_count": 3,
   "metadata": {},
   "outputs": [],
   "source": [
    "def init_cp_alfven(\n",
    "    ks,  #: wave numbers\n",
    "    phases,  #: phases\n",
    "    B0,\n",
    "    A,  #: relative amplitude\n",
    "    vA,\n",
    "    n0,\n",
    "    **kwargs,\n",
    "):\n",
    "    \"\"\"\n",
    "    Generate field with a wave propagating along the x axis at a large angle `theta` with respect to the background magnetic field lying in the x-z plane.\n",
    "\n",
    "    The initial wave is an Alfven mode in which the magnetic field fluctuation points along the y and z axis and has a relative amplitude $A = \\delta B_y / B_0$\n",
    "    \"\"\"\n",
    "\n",
    "    wx_expression = \"+\".join([f\"sin({k} * z + {phi})\" for k, phi in zip(ks, phases)])\n",
    "    wy_expression = \"+\".join([f\"cos({k} * z + {phi})\" for k, phi in zip(ks, phases)])\n",
    "\n",
    "\n",
    "    Bz_expression = B0\n",
    "    Bx_expression = f\"{-A * B0} * ({wx_expression})\"\n",
    "    By_expression = f\"{A * B0} * ({wy_expression})\"\n",
    "\n",
    "    pz_expression = 0\n",
    "    px_expression = f\"{A * vA} * ({wx_expression})\"\n",
    "    py_expression = f\"{-A * vA} * ({wy_expression})\"\n",
    "    momentum_expressions = [px_expression, py_expression, pz_expression]\n",
    "\n",
    "    field = picmi.AnalyticInitialField(\n",
    "        Bx_expression=Bx_expression,\n",
    "        By_expression=By_expression,\n",
    "        Bz_expression=Bz_expression,\n",
    "    )\n",
    "\n",
    "    dist = picmi.AnalyticDistribution(\n",
    "        density_expression=n0,\n",
    "        momentum_expressions=momentum_expressions,\n",
    "    )\n",
    "\n",
    "    return field, dist"
   ]
  },
  {
   "cell_type": "code",
   "execution_count": 4,
   "metadata": {},
   "outputs": [],
   "source": [
    "class CPAlfvenModes(HybridSimulation):\n",
    "    # Applied field parameters\n",
    "    dim: int = 1\n",
    "    B0: float = 100 * 1e-9\n",
    "    \"\"\"Initial magnetic field strength (T)\"\"\"\n",
    "    n0: float = 100 * 1e6\n",
    "    \"\"\"Initial plasma density (m^-3)\"\"\"\n",
    "\n",
    "    A: float = 0.5  # relative amplitude\n",
    "\n",
    "    ks: list[float] = None  # wave numbers\n",
    "    phases: list[float] = None  # phases\n",
    "    n_modes: int = 3  # number of modes\n",
    "\n",
    "    # Spatial domain\n",
    "    Lz_norm: float = 128\n",
    "    Lx_norm: float = 64\n",
    "\n",
    "    def setup_init_cond(self):\n",
    "        \"\"\"setup initial conditions\"\"\"\n",
    "        self.ks = [\n",
    "            (i + self.n_modes) * 2 * np.pi / self.Lz for i in range(self.n_modes)\n",
    "        ]\n",
    "        self.phases = [i * 2 * np.pi / self.n_modes for i in range(self.n_modes)]\n",
    "\n",
    "        B_ext, dist = init_cp_alfven(\n",
    "            ks=self.ks,\n",
    "            phases=self.phases,\n",
    "            B0=self.B0,\n",
    "            A=self.A,\n",
    "            vA=self.vA,\n",
    "            n0=self.n0,\n",
    "        )\n",
    "        self._B_ext = B_ext\n",
    "        self._dist = dist\n",
    "\n",
    "        return self"
   ]
  },
  {
   "cell_type": "code",
   "execution_count": 7,
   "metadata": {},
   "outputs": [
    {
     "name": "stdout",
     "output_type": "stream",
     "text": [
      "Numerical parameters:\n",
      "\tdt = 1.4e-04 s\n",
      "\ttotal steps = 25600\n",
      "\n",
      "Initializing simulation with input parameters:\n",
      "\tTe = 24.588 eV\n",
      "\tn = 1.0e+02 cm^-3\n",
      "\tB0 = 100.00 nT\n",
      "\tM/m = 100\n",
      "\n",
      "Plasma parameters:\n",
      "\td_i = 5.3e+03 m\n",
      "\tt_ci = 3.6e-02 s\n",
      "\tv_ti = 2.1e+05 m/s\n",
      "\tvA = 9.3e+05 m/s\n",
      "\tvA/c = 0.0031021956193735692\n",
      "\n"
     ]
    }
   ],
   "source": [
    "simulation = CPAlfvenModes(\n",
    "    diag_format='openpmd',\n",
    ")"
   ]
  },
  {
   "cell_type": "code",
   "execution_count": null,
   "metadata": {},
   "outputs": [],
   "source": [
    "simulation._sim.step()"
   ]
  }
 ],
 "metadata": {
  "kernelspec": {
   "display_name": "Python 3",
   "language": "python",
   "name": "python3"
  },
  "language_info": {
   "codemirror_mode": {
    "name": "ipython",
    "version": 3
   },
   "file_extension": ".py",
   "mimetype": "text/x-python",
   "name": "python",
   "nbconvert_exporter": "python",
   "pygments_lexer": "ipython3",
   "version": "3.11.8"
  }
 },
 "nbformat": 4,
 "nbformat_minor": 2
}
