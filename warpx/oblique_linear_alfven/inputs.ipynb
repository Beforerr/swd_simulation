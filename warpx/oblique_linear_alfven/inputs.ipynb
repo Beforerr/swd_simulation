{
 "cells": [
  {
   "cell_type": "code",
   "execution_count": 6,
   "metadata": {},
   "outputs": [],
   "source": [
    "import numpy as np\n",
    "from pywarpx import picmi\n",
    "\n",
    "\n",
    "constants = picmi.constants"
   ]
  },
  {
   "cell_type": "code",
   "execution_count": 7,
   "metadata": {},
   "outputs": [],
   "source": [
    "from utils import cosd, sind\n",
    "from space_analysis.simulation.warpx import HybridSimulation"
   ]
  },
  {
   "cell_type": "markdown",
   "metadata": {},
   "source": [
    "Support `gaussian_parse_momentum_function`?\n"
   ]
  },
  {
   "cell_type": "code",
   "execution_count": 8,
   "metadata": {},
   "outputs": [],
   "source": [
    "def init_field(\n",
    "    k,\n",
    "    B0,\n",
    "    A,  #: relative amplitude\n",
    "    theta=60,\n",
    "):\n",
    "    \"\"\"\n",
    "    Generate field with a wave propagating along the x axis at a large angle `theta` with respect to the background magnetic field lying in the x-z plane.\n",
    "\n",
    "    The initial waveis an Alfven mode in which the magnetic field fluctuation points along the y and z axis and has a relative amplitude $A = \\delta B_y / B_0$\n",
    "    \"\"\"\n",
    "\n",
    "    B0x = B0 * cosd(theta)\n",
    "    B0z = B0 * sind(theta)\n",
    "\n",
    "    # dB0z = B0 * A * np.cos(k * 0)\n",
    "\n",
    "    Bx_expression = f\"{B0x}\"\n",
    "    By_expression = f\"{A} * {B0} * cos({k} * x)\"\n",
    "    Bz_expression = f\"{B0z}\"\n",
    "\n",
    "    return picmi.AnalyticInitialField(\n",
    "        Bx_expression=Bx_expression,\n",
    "        By_expression=By_expression,\n",
    "        Bz_expression=Bz_expression,\n",
    "    )\n",
    "\n",
    "\n",
    "def init_plasma(\n",
    "    vA,\n",
    "    n0,\n",
    "    v_ti,  #: ion thermal velocity\n",
    "    k,\n",
    "    B0,\n",
    "    A,  #: relative amplitude\n",
    "    theta=60,\n",
    "):\n",
    "    \"\"\"\n",
    "    The ion bulk and transverse velocity V remains parallel to the total transverse magnetic field.\n",
    "    \"\"\"\n",
    "    B0x = B0 * cosd(theta)\n",
    "    B0z = B0 * sind(theta)\n",
    "\n",
    "    px_expression = vA * B0x / B0\n",
    "    py_expression = f\"{vA * A} * cos({k} * x)\"\n",
    "    pz_expression = vA * B0z / B0\n",
    "    \n",
    "    px_expression = 0 \n",
    "    pz_expression = 0\n",
    "\n",
    "    momentum_expressions = [px_expression, py_expression, pz_expression]\n",
    "\n",
    "    return picmi.AnalyticDistribution(\n",
    "        density_expression=n0,\n",
    "        momentum_expressions=momentum_expressions,\n",
    "        # rms_velocity=[v_ti] * 3,\n",
    "    )"
   ]
  },
  {
   "cell_type": "code",
   "execution_count": 9,
   "metadata": {},
   "outputs": [],
   "source": [
    "class AlfvenModes(HybridSimulation):\n",
    "    test: bool = True\n",
    "    # Applied field parameters\n",
    "    dim: int = 2\n",
    "    B0: float = 100 * 1e-9\n",
    "    \"\"\"Initial magnetic field strength (T)\"\"\"\n",
    "    n0: float = 100 * 1e6\n",
    "    \"\"\"Initial plasma density (m^-3)\"\"\"\n",
    "\n",
    "    vA_over_c: float = None\n",
    "    \"\"\"ratio of Alfven speed and the speed of light\"\"\"\n",
    "\n",
    "    A: float = 0.1  # relative amplitude\n",
    "\n",
    "    # Spatial domain\n",
    "    Lz_norm: float = 4\n",
    "    Lx_norm: float = 128  # spatial domain length in x direction (ion skin depths)\n",
    "\n",
    "    def model_post_init(self, __context):\n",
    "        \"\"\"Get input parameters for the specific case desired.\"\"\"\n",
    "        if self.test:\n",
    "            self.nppc = 64\n",
    "            self.m_ion_norm = 100\n",
    "\n",
    "        # calculate various plasma parameters based on the simulation input\n",
    "        self.get_plasma_quantities()\n",
    "\n",
    "        super().model_post_init(__context)\n",
    "\n",
    "        self.k = 1 * 2 * np.pi / self.Lx\n",
    "        self.setup_run()\n",
    "        self.dump()\n",
    "\n",
    "    def setup_field(self):\n",
    "        \"\"\"Setup external field\"\"\"\n",
    "\n",
    "        B_ext = init_field(k=self.k, B0=self.B0, A=self.A)\n",
    "        self._sim.add_applied_field(B_ext)\n",
    "        return self\n",
    "\n",
    "    def setup_particle(self):\n",
    "        \"\"\"setup the particle\"\"\"\n",
    "\n",
    "        dist = init_plasma(\n",
    "            vA=self.vA, n0=self.n0, v_ti=self.v_ti, k=self.k, B0=self.B0, A=self.A\n",
    "        )\n",
    "\n",
    "        ions = picmi.Species(\n",
    "            name=\"ions\",\n",
    "            charge_state=1,\n",
    "            mass=self.m_ion,\n",
    "            initial_distribution=dist,\n",
    "        )\n",
    "\n",
    "        self._sim.add_species(\n",
    "            ions,\n",
    "            layout=picmi.PseudoRandomLayout(\n",
    "                grid=self._grid, n_macroparticles_per_cell=self.nppc\n",
    "            ),\n",
    "        )\n",
    "        return self\n",
    "\n",
    "    def get_plasma_quantities(self):\n",
    "        \"\"\"Calculate various plasma parameters based on the simulation input.\"\"\"\n",
    "        # Ion mass (kg)\n",
    "        self.m_ion = self.m_ion_norm * constants.m_e\n",
    "\n",
    "        # Cyclotron angular frequency (rad/s) and period (s)\n",
    "        self.w_ci = constants.q_e * abs(self.B0) / self.m_ion\n",
    "        self.t_ci = 2.0 * np.pi / self.w_ci\n",
    "\n",
    "        # Alfven speed (m/s): vA = B / sqrt(mu0 * n * (M + m)) = c * omega_ci / w_pi\n",
    "        if self.n0 is not None:\n",
    "            self.vA = self.B0 / np.sqrt(\n",
    "                constants.mu0 * self.n0 * (self.m_ion + constants.m_e)\n",
    "            )\n",
    "        elif self.vA_over_c is not None:\n",
    "            self.vA = self.vA_over_c * constants.c\n",
    "            self.n0 = (self.B0 / self.vA) ** 2 / (\n",
    "                constants.mu0 * (self.m_ion + constants.m_e)\n",
    "            )\n",
    "\n",
    "        # Ion plasma frequency (rad/s)\n",
    "        self.w_pi = np.sqrt(constants.q_e**2 * self.n0 / (self.m_ion * constants.ep0))\n",
    "\n",
    "        # Skin depth (m): inertial length\n",
    "        self.d_i = constants.c / self.w_pi\n",
    "\n",
    "        # Ion thermal velocity (m/s) from beta = 2 * (v_ti / vA)**2\n",
    "        self.v_ti = np.sqrt(self.beta / 2.0) * self.vA\n",
    "\n",
    "        # Temperature (eV) from thermal speed: v_ti = sqrt(kT / M)\n",
    "        self.T_plasma = self.v_ti**2 * self.m_ion / constants.q_e  # eV\n",
    "        self.Te = self.T_plasma"
   ]
  },
  {
   "cell_type": "code",
   "execution_count": 10,
   "metadata": {},
   "outputs": [
    {
     "name": "stdout",
     "output_type": "stream",
     "text": [
      "Numerical parameters:\n",
      "\tdt = 5.6e-04 s\n",
      "\ttotal steps = 6400\n",
      "\n",
      "Initializing simulation with input parameters:\n",
      "\tTe = 24.588 eV\n",
      "\tn = 1.0e+02 cm^-3\n",
      "\tB0 = 100.00 nT\n",
      "\tM/m = 100\n",
      "\n",
      "Plasma parameters:\n",
      "\td_i = 5.3e+03 m\n",
      "\tt_ci = 3.6e-02 s\n",
      "\tv_ti = 2.1e+05 m/s\n",
      "\tvA = 9.3e+05 m/s\n",
      "\tvA/c = 0.0031021956193735692\n",
      "\n"
     ]
    }
   ],
   "source": [
    "simulation = AlfvenModes()\n",
    "simulation._sim.write_input_file()"
   ]
  },
  {
   "cell_type": "code",
   "execution_count": null,
   "metadata": {},
   "outputs": [],
   "source": [
    "simulation._sim.step()"
   ]
  },
  {
   "cell_type": "code",
   "execution_count": 9,
   "metadata": {},
   "outputs": [
    {
     "name": "stdout",
     "output_type": "stream",
     "text": [
      "\n",
      "    6400\n",
      "    0.0005581854301372202\n",
      "    \n"
     ]
    }
   ],
   "source": [
    "simulation.diag_steps\n",
    "\n",
    "print(f\"\"\"\n",
    "    {simulation._sim.max_steps}\n",
    "    {simulation._sim.time_step_size}\n",
    "    \"\"\"\n",
    ")"
   ]
  },
  {
   "cell_type": "code",
   "execution_count": null,
   "metadata": {},
   "outputs": [],
   "source": [
    "# simulation._sim.step()"
   ]
  }
 ],
 "metadata": {
  "kernelspec": {
   "display_name": "Python 3",
   "language": "python",
   "name": "python3"
  },
  "language_info": {
   "codemirror_mode": {
    "name": "ipython",
    "version": 3
   },
   "file_extension": ".py",
   "mimetype": "text/x-python",
   "name": "python",
   "nbconvert_exporter": "python",
   "pygments_lexer": "ipython3",
   "version": "3.11.8"
  }
 },
 "nbformat": 4,
 "nbformat_minor": 2
}
