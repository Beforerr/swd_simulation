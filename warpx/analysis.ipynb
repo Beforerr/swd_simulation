{
 "cells": [
  {
   "cell_type": "markdown",
   "metadata": {},
   "source": [
    "# Analysis"
   ]
  },
  {
   "cell_type": "code",
   "execution_count": 4,
   "metadata": {},
   "outputs": [
    {
     "name": "stdout",
     "output_type": "stream",
     "text": [
      "The autoreload extension is already loaded. To reload it, use:\n",
      "  %reload_ext autoreload\n"
     ]
    }
   ],
   "source": [
    "%load_ext autoreload\n",
    "%autoreload 2"
   ]
  },
  {
   "cell_type": "code",
   "execution_count": 5,
   "metadata": {
    "notebookRunGroups": {
     "groupValue": "1"
    }
   },
   "outputs": [],
   "source": [
    "import matplotlib.pyplot as plt\n",
    "import yt\n",
    "from rich import print\n",
    "from icecream import ic\n",
    "import panel as pn\n",
    "import json\n",
    "from yt.data_objects.time_series import SimulationTimeSeries\n",
    "from yt.data_objects.static_output import Dataset"
   ]
  },
  {
   "cell_type": "code",
   "execution_count": 6,
   "metadata": {},
   "outputs": [],
   "source": [
    "from main import setup"
   ]
  },
  {
   "cell_type": "code",
   "execution_count": 3,
   "metadata": {},
   "outputs": [],
   "source": [
    "from utils.plot import *"
   ]
  },
  {
   "cell_type": "code",
   "execution_count": 7,
   "metadata": {},
   "outputs": [],
   "source": [
    "dim = 1\n",
    "beta = 0.25\n",
    "theta = 60.0\n",
    "eta = 100.0\n",
    "\n",
    "meta = setup(dim, beta, theta, eta)"
   ]
  },
  {
   "cell_type": "code",
   "execution_count": 8,
   "metadata": {},
   "outputs": [
    {
     "data": {
      "text/plain": [
       "100000000.0"
      ]
     },
     "execution_count": 8,
     "metadata": {},
     "output_type": "execute_result"
    }
   ],
   "source": [
    "meta[\"n0\"]"
   ]
  },
  {
   "cell_type": "code",
   "execution_count": 7,
   "metadata": {},
   "outputs": [],
   "source": [
    "ps = \"ions\""
   ]
  },
  {
   "cell_type": "markdown",
   "metadata": {},
   "source": [
    "## Fields"
   ]
  },
  {
   "cell_type": "code",
   "execution_count": 8,
   "metadata": {},
   "outputs": [],
   "source": [
    "from utils import load_ts_all\n",
    "ts_field, ts_part = load_ts_all(meta) "
   ]
  },
  {
   "cell_type": "code",
   "execution_count": 9,
   "metadata": {},
   "outputs": [
    {
     "name": "stderr",
     "output_type": "stream",
     "text": [
      "ic| len(ts_field): 501\n"
     ]
    }
   ],
   "source": [
    "ic(len(ts_field))\n",
    "ds_field: Dataset = ts_field[0]\n",
    "part_df: Dataset = ts_part[0]"
   ]
  },
  {
   "cell_type": "markdown",
   "metadata": {},
   "source": [
    "## Particles"
   ]
  },
  {
   "cell_type": "code",
   "execution_count": 66,
   "metadata": {},
   "outputs": [],
   "source": [
    "# plot_field_with_plasma_profile_ts(ts_field, ts_part, name=\"v_comp\", step=4)"
   ]
  },
  {
   "cell_type": "code",
   "execution_count": 67,
   "metadata": {},
   "outputs": [],
   "source": [
    "#: check the field list\n",
    "# print(ds_part.field_list)\n",
    "# print(ds_part.derived_field_list)"
   ]
  },
  {
   "cell_type": "markdown",
   "metadata": {},
   "source": [
    "### Pressure"
   ]
  },
  {
   "cell_type": "code",
   "execution_count": 14,
   "metadata": {},
   "outputs": [],
   "source": [
    "from utils import ds2xr, ds2df\n",
    "import polars as pl\n",
    "import polars.selectors as cs\n",
    "import numpy as np"
   ]
  },
  {
   "cell_type": "markdown",
   "metadata": {},
   "source": [
    "# Archive"
   ]
  },
  {
   "cell_type": "markdown",
   "metadata": {},
   "source": [
    "### yt"
   ]
  },
  {
   "cell_type": "code",
   "execution_count": null,
   "metadata": {},
   "outputs": [],
   "source": [
    "ts: SimulationTimeSeries = yt.load('diags/diag1??????')\n",
    "# ts = yt.load('./diags/diag???0032')"
   ]
  },
  {
   "cell_type": "code",
   "execution_count": null,
   "metadata": {},
   "outputs": [],
   "source": [
    "def plot(ds, normalize = True, **kwargs):\n",
    "    ad = ds.all_data()\n",
    "    fields = [\"Bx\", \"By\", \"Bz\"]\n",
    "\n",
    "    match meta[\"dim\"]:\n",
    "        case 1: pos = \"x\"\n",
    "        case 2: pos = \"y\"\n",
    "        \n",
    "    pos = ad[pos]\n",
    "    \n",
    "    if normalize:\n",
    "        pos = pos / meta['d_i']\n",
    "    \n",
    "    for field in fields:\n",
    "        plt.plot(pos, ad[field], label=field, **kwargs)\n",
    "    \n",
    "    plt.xlabel(\"x ($d_i$)\")\n",
    "        \n",
    "def hodogram(ds, comp1=\"By\", comp2=\"Bz\"):\n",
    "    time = ds.current_time\n",
    "    time_norm = time.value / meta['t_ci']\n",
    "    ad = ds.all_data()\n",
    "    plt.plot(ad[comp1], ad[comp2], label=f\"t={time_norm:.2f}\")\n",
    "    plt.xlabel(comp1)\n",
    "    plt.ylabel(comp2)"
   ]
  },
  {
   "cell_type": "code",
   "execution_count": null,
   "metadata": {},
   "outputs": [],
   "source": [
    "for i, part_df in enumerate(ts):\n",
    "    alpha = (i + 1) / (len(ts)+1)\n",
    "    plot(part_df, alpha=alpha)\n",
    "    plt.show()  # Show each plot separately"
   ]
  },
  {
   "cell_type": "code",
   "execution_count": null,
   "metadata": {},
   "outputs": [],
   "source": [
    "i = 4\n",
    "_ts = ts[0:i]\n",
    "for i, part_df in enumerate(_ts):\n",
    "    alpha = (i + 1) / (len(_ts)+1)\n",
    "    plot(part_df, alpha=alpha)\n",
    "    plt.show()  # Show each plot separately"
   ]
  },
  {
   "cell_type": "code",
   "execution_count": null,
   "metadata": {},
   "outputs": [],
   "source": [
    "for part_df in ts:\n",
    "    hodogram(part_df)\n",
    "    plt.legend()"
   ]
  },
  {
   "cell_type": "code",
   "execution_count": null,
   "metadata": {},
   "outputs": [],
   "source": [
    "i = 5\n",
    "for part_df in ts[0:i]:\n",
    "    hodogram(part_df)\n",
    "    plt.legend()"
   ]
  },
  {
   "cell_type": "code",
   "execution_count": null,
   "metadata": {},
   "outputs": [],
   "source": [
    "yt.SlicePlot(part_df, \"z\", (\"boxlib\", \"Bz\"))"
   ]
  },
  {
   "cell_type": "code",
   "execution_count": null,
   "metadata": {},
   "outputs": [],
   "source": [
    "part_df.all_data()"
   ]
  },
  {
   "cell_type": "code",
   "execution_count": null,
   "metadata": {},
   "outputs": [],
   "source": [
    "fields = [\n",
    "    (\"Bx\"),\n",
    "    (\"By\"),\n",
    "    (\"Bz\"),\n",
    "    (\"mesh\", \"magnetic_field_strength\"),\n",
    "]"
   ]
  },
  {
   "cell_type": "code",
   "execution_count": null,
   "metadata": {},
   "outputs": [],
   "source": [
    "for part_df in ts.piter():\n",
    "    p = yt.plot_2d(part_df, fields=fields)\n",
    "    p.set_log(fields, False)\n",
    "    fig = p.export_to_mpl_figure((2, 2))\n",
    "    fig.tight_layout()\n",
    "    fig.savefig(f\"figures/{part_df}_magnetic_field.png\")"
   ]
  },
  {
   "cell_type": "markdown",
   "metadata": {},
   "source": [
    "### Average magnetic field"
   ]
  },
  {
   "cell_type": "code",
   "execution_count": 35,
   "metadata": {},
   "outputs": [],
   "source": [
    "def plot_avg(ds):\n",
    "    fields = [\n",
    "        (\"Bx\"),\n",
    "        (\"By\"),\n",
    "        (\"Bz\"),\n",
    "    ]\n",
    "\n",
    "    ad = ds.all_data()\n",
    "    df = ad.to_dataframe(fields + [\"x\", zaxis])\n",
    "    # compute the magnetic field strength\n",
    "    df = df.assign(B=lambda x: (x.Bx**2 + x.By**2 + x.Bz**2) ** 0.5)\n",
    "\n",
    "    axes = df.groupby(zaxis).mean().plot(y=fields + [\"B\"], subplots=True)\n",
    "    return axes[0].figure"
   ]
  },
  {
   "cell_type": "code",
   "execution_count": 36,
   "metadata": {},
   "outputs": [
    {
     "ename": "NameError",
     "evalue": "name 'ts' is not defined",
     "output_type": "error",
     "traceback": [
      "\u001b[0;31m---------------------------------------------------------------------------\u001b[0m",
      "\u001b[0;31mNameError\u001b[0m                                 Traceback (most recent call last)",
      "Cell \u001b[0;32mIn[36], line 4\u001b[0m\n\u001b[1;32m      1\u001b[0m \u001b[38;5;28;01mdef\u001b[39;00m \u001b[38;5;21mplot_avg_ts\u001b[39m(i):\n\u001b[1;32m      2\u001b[0m     \u001b[38;5;28;01mreturn\u001b[39;00m plot_avg(ts[i])\n\u001b[0;32m----> 4\u001b[0m time_widget \u001b[38;5;241m=\u001b[39m pn\u001b[38;5;241m.\u001b[39mwidgets\u001b[38;5;241m.\u001b[39mIntSlider(name\u001b[38;5;241m=\u001b[39m\u001b[38;5;124m\"\u001b[39m\u001b[38;5;124mTime\u001b[39m\u001b[38;5;124m\"\u001b[39m, value\u001b[38;5;241m=\u001b[39m\u001b[38;5;241m1\u001b[39m, start\u001b[38;5;241m=\u001b[39m\u001b[38;5;241m0\u001b[39m, end\u001b[38;5;241m=\u001b[39m\u001b[38;5;28mlen\u001b[39m(\u001b[43mts\u001b[49m)\u001b[38;5;241m-\u001b[39m\u001b[38;5;241m1\u001b[39m)\n\u001b[1;32m      5\u001b[0m bound_plot \u001b[38;5;241m=\u001b[39m pn\u001b[38;5;241m.\u001b[39mbind(plot_avg_ts, i\u001b[38;5;241m=\u001b[39mtime_widget)\n\u001b[1;32m      7\u001b[0m pn\u001b[38;5;241m.\u001b[39mColumn(time_widget, bound_plot)\n",
      "\u001b[0;31mNameError\u001b[0m: name 'ts' is not defined"
     ]
    }
   ],
   "source": [
    "def plot_avg_ts(i):\n",
    "    return plot_avg(ts[i])\n",
    "    \n",
    "time_widget = pn.widgets.IntSlider(name=\"Time\", value=1, start=0, end=len(ts)-1)\n",
    "bound_plot = pn.bind(plot_avg_ts, i=time_widget)\n",
    "\n",
    "pn.Column(time_widget, bound_plot)"
   ]
  },
  {
   "cell_type": "code",
   "execution_count": null,
   "metadata": {},
   "outputs": [],
   "source": [
    "for part_df in ts.piter():\n",
    "    plot_avg(part_df)"
   ]
  },
  {
   "cell_type": "code",
   "execution_count": null,
   "metadata": {},
   "outputs": [],
   "source": [
    "part_df.print_stats()\n",
    "print(part_df.field_list)"
   ]
  },
  {
   "cell_type": "code",
   "execution_count": null,
   "metadata": {},
   "outputs": [],
   "source": [
    "grid = part_df.r[:,:,:]\n",
    "obj = grid.to_xarray(fields=fields)"
   ]
  }
 ],
 "metadata": {
  "kernelspec": {
   "display_name": "Python 3",
   "language": "python",
   "name": "python3"
  },
  "language_info": {
   "codemirror_mode": {
    "name": "ipython",
    "version": 3
   },
   "file_extension": ".py",
   "mimetype": "text/x-python",
   "name": "python",
   "nbconvert_exporter": "python",
   "pygments_lexer": "ipython3",
   "version": "3.11.8"
  }
 },
 "nbformat": 4,
 "nbformat_minor": 2
}
