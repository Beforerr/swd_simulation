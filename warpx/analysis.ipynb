{
 "cells": [
  {
   "cell_type": "markdown",
   "metadata": {},
   "source": [
    "# Analysis"
   ]
  },
  {
   "cell_type": "code",
   "execution_count": 2,
   "metadata": {},
   "outputs": [],
   "source": [
    "%load_ext autoreload\n",
    "%autoreload 2"
   ]
  },
  {
   "cell_type": "code",
   "execution_count": 3,
   "metadata": {
    "notebookRunGroups": {
     "groupValue": "1"
    }
   },
   "outputs": [],
   "source": [
    "import utils\n",
    "import matplotlib.pyplot as plt\n",
    "import yt\n",
    "from rich import print\n",
    "from icecream import ic\n",
    "import panel as pn\n",
    "from loguru import logger\n",
    "\n",
    "import logging\n",
    "import json\n",
    "from yt.data_objects.time_series import SimulationTimeSeries\n",
    "from yt.data_objects.static_output import Dataset\n",
    "from matplotlib.pyplot import Axes"
   ]
  },
  {
   "cell_type": "code",
   "execution_count": 4,
   "metadata": {},
   "outputs": [],
   "source": [
    "dim = 1\n",
    "# dim = 2\n",
    "# dim = 3\n",
    "beta = 0.25\n",
    "theta = 60.0\n",
    "plasma_resistivity = 100.0"
   ]
  },
  {
   "cell_type": "code",
   "execution_count": 5,
   "metadata": {},
   "outputs": [],
   "source": [
    "import os\n",
    "from pathlib import Path\n",
    "\n",
    "try:\n",
    "    base_dir = Path(os.getcwd()) / \"01_oblique_linear_alfven\"\n",
    "    sub_dir = f\"dim_{dim}_beta_{beta}_theta_{theta}_eta_{plasma_resistivity}\"\n",
    "    directory = base_dir / sub_dir\n",
    "    os.chdir(directory)\n",
    "    os.makedirs(\"figures\", exist_ok=True)\n",
    "except FileNotFoundError:\n",
    "    pass"
   ]
  },
  {
   "cell_type": "code",
   "execution_count": 6,
   "metadata": {
    "notebookRunGroups": {
     "groupValue": "1"
    }
   },
   "outputs": [
    {
     "data": {
      "application/javascript": "(function(root) {\n  function now() {\n    return new Date();\n  }\n\n  var force = true;\n  var py_version = '3.4.1'.replace('rc', '-rc.').replace('.dev', '-dev.');\n  var reloading = false;\n  var Bokeh = root.Bokeh;\n\n  if (typeof (root._bokeh_timeout) === \"undefined\" || force) {\n    root._bokeh_timeout = Date.now() + 5000;\n    root._bokeh_failed_load = false;\n  }\n\n  function run_callbacks() {\n    try {\n      root._bokeh_onload_callbacks.forEach(function(callback) {\n        if (callback != null)\n          callback();\n      });\n    } finally {\n      delete root._bokeh_onload_callbacks;\n    }\n    console.debug(\"Bokeh: all callbacks have finished\");\n  }\n\n  function load_libs(css_urls, js_urls, js_modules, js_exports, callback) {\n    if (css_urls == null) css_urls = [];\n    if (js_urls == null) js_urls = [];\n    if (js_modules == null) js_modules = [];\n    if (js_exports == null) js_exports = {};\n\n    root._bokeh_onload_callbacks.push(callback);\n\n    if (root._bokeh_is_loading > 0) {\n      console.debug(\"Bokeh: BokehJS is being loaded, scheduling callback at\", now());\n      return null;\n    }\n    if (js_urls.length === 0 && js_modules.length === 0 && Object.keys(js_exports).length === 0) {\n      run_callbacks();\n      return null;\n    }\n    if (!reloading) {\n      console.debug(\"Bokeh: BokehJS not loaded, scheduling load and callback at\", now());\n    }\n\n    function on_load() {\n      root._bokeh_is_loading--;\n      if (root._bokeh_is_loading === 0) {\n        console.debug(\"Bokeh: all BokehJS libraries/stylesheets loaded\");\n        run_callbacks()\n      }\n    }\n    window._bokeh_on_load = on_load\n\n    function on_error() {\n      console.error(\"failed to load \" + url);\n    }\n\n    var skip = [];\n    if (window.requirejs) {\n      window.requirejs.config({'packages': {}, 'paths': {}, 'shim': {}});\n      root._bokeh_is_loading = css_urls.length + 0;\n    } else {\n      root._bokeh_is_loading = css_urls.length + js_urls.length + js_modules.length + Object.keys(js_exports).length;\n    }\n\n    var existing_stylesheets = []\n    var links = document.getElementsByTagName('link')\n    for (var i = 0; i < links.length; i++) {\n      var link = links[i]\n      if (link.href != null) {\n\texisting_stylesheets.push(link.href)\n      }\n    }\n    for (var i = 0; i < css_urls.length; i++) {\n      var url = css_urls[i];\n      if (existing_stylesheets.indexOf(url) !== -1) {\n\ton_load()\n\tcontinue;\n      }\n      const element = document.createElement(\"link\");\n      element.onload = on_load;\n      element.onerror = on_error;\n      element.rel = \"stylesheet\";\n      element.type = \"text/css\";\n      element.href = url;\n      console.debug(\"Bokeh: injecting link tag for BokehJS stylesheet: \", url);\n      document.body.appendChild(element);\n    }    var existing_scripts = []\n    var scripts = document.getElementsByTagName('script')\n    for (var i = 0; i < scripts.length; i++) {\n      var script = scripts[i]\n      if (script.src != null) {\n\texisting_scripts.push(script.src)\n      }\n    }\n    for (var i = 0; i < js_urls.length; i++) {\n      var url = js_urls[i];\n      if (skip.indexOf(url) !== -1 || existing_scripts.indexOf(url) !== -1) {\n\tif (!window.requirejs) {\n\t  on_load();\n\t}\n\tcontinue;\n      }\n      var element = document.createElement('script');\n      element.onload = on_load;\n      element.onerror = on_error;\n      element.async = false;\n      element.src = url;\n      console.debug(\"Bokeh: injecting script tag for BokehJS library: \", url);\n      document.head.appendChild(element);\n    }\n    for (var i = 0; i < js_modules.length; i++) {\n      var url = js_modules[i];\n      if (skip.indexOf(url) !== -1 || existing_scripts.indexOf(url) !== -1) {\n\tif (!window.requirejs) {\n\t  on_load();\n\t}\n\tcontinue;\n      }\n      var element = document.createElement('script');\n      element.onload = on_load;\n      element.onerror = on_error;\n      element.async = false;\n      element.src = url;\n      element.type = \"module\";\n      console.debug(\"Bokeh: injecting script tag for BokehJS library: \", url);\n      document.head.appendChild(element);\n    }\n    for (const name in js_exports) {\n      var url = js_exports[name];\n      if (skip.indexOf(url) >= 0 || root[name] != null) {\n\tif (!window.requirejs) {\n\t  on_load();\n\t}\n\tcontinue;\n      }\n      var element = document.createElement('script');\n      element.onerror = on_error;\n      element.async = false;\n      element.type = \"module\";\n      console.debug(\"Bokeh: injecting script tag for BokehJS library: \", url);\n      element.textContent = `\n      import ${name} from \"${url}\"\n      window.${name} = ${name}\n      window._bokeh_on_load()\n      `\n      document.head.appendChild(element);\n    }\n    if (!js_urls.length && !js_modules.length) {\n      on_load()\n    }\n  };\n\n  function inject_raw_css(css) {\n    const element = document.createElement(\"style\");\n    element.appendChild(document.createTextNode(css));\n    document.body.appendChild(element);\n  }\n\n  var js_urls = [\"https://cdn.bokeh.org/bokeh/release/bokeh-3.4.1.min.js\", \"https://cdn.bokeh.org/bokeh/release/bokeh-gl-3.4.1.min.js\", \"https://cdn.bokeh.org/bokeh/release/bokeh-widgets-3.4.1.min.js\", \"https://cdn.bokeh.org/bokeh/release/bokeh-tables-3.4.1.min.js\", \"https://cdn.holoviz.org/panel/1.4.1/dist/panel.min.js\"];\n  var js_modules = [];\n  var js_exports = {};\n  var css_urls = [];\n  var inline_js = [    function(Bokeh) {\n      Bokeh.set_log_level(\"info\");\n    },\nfunction(Bokeh) {} // ensure no trailing comma for IE\n  ];\n\n  function run_inline_js() {\n    if ((root.Bokeh !== undefined) || (force === true)) {\n      for (var i = 0; i < inline_js.length; i++) {\n\ttry {\n          inline_js[i].call(root, root.Bokeh);\n\t} catch(e) {\n\t  if (!reloading) {\n\t    throw e;\n\t  }\n\t}\n      }\n      // Cache old bokeh versions\n      if (Bokeh != undefined && !reloading) {\n\tvar NewBokeh = root.Bokeh;\n\tif (Bokeh.versions === undefined) {\n\t  Bokeh.versions = new Map();\n\t}\n\tif (NewBokeh.version !== Bokeh.version) {\n\t  Bokeh.versions.set(NewBokeh.version, NewBokeh)\n\t}\n\troot.Bokeh = Bokeh;\n      }} else if (Date.now() < root._bokeh_timeout) {\n      setTimeout(run_inline_js, 100);\n    } else if (!root._bokeh_failed_load) {\n      console.log(\"Bokeh: BokehJS failed to load within specified timeout.\");\n      root._bokeh_failed_load = true;\n    }\n    root._bokeh_is_initializing = false\n  }\n\n  function load_or_wait() {\n    // Implement a backoff loop that tries to ensure we do not load multiple\n    // versions of Bokeh and its dependencies at the same time.\n    // In recent versions we use the root._bokeh_is_initializing flag\n    // to determine whether there is an ongoing attempt to initialize\n    // bokeh, however for backward compatibility we also try to ensure\n    // that we do not start loading a newer (Panel>=1.0 and Bokeh>3) version\n    // before older versions are fully initialized.\n    if (root._bokeh_is_initializing && Date.now() > root._bokeh_timeout) {\n      root._bokeh_is_initializing = false;\n      root._bokeh_onload_callbacks = undefined;\n      console.log(\"Bokeh: BokehJS was loaded multiple times but one version failed to initialize.\");\n      load_or_wait();\n    } else if (root._bokeh_is_initializing || (typeof root._bokeh_is_initializing === \"undefined\" && root._bokeh_onload_callbacks !== undefined)) {\n      setTimeout(load_or_wait, 100);\n    } else {\n      root._bokeh_is_initializing = true\n      root._bokeh_onload_callbacks = []\n      var bokeh_loaded = Bokeh != null && (Bokeh.version === py_version || (Bokeh.versions !== undefined && Bokeh.versions.has(py_version)));\n      if (!reloading && !bokeh_loaded) {\n\troot.Bokeh = undefined;\n      }\n      load_libs(css_urls, js_urls, js_modules, js_exports, function() {\n\tconsole.debug(\"Bokeh: BokehJS plotting callback run at\", now());\n\trun_inline_js();\n      });\n    }\n  }\n  // Give older versions of the autoload script a head-start to ensure\n  // they initialize before we start loading newer version.\n  setTimeout(load_or_wait, 100)\n}(window));",
      "application/vnd.holoviews_load.v0+json": ""
     },
     "metadata": {},
     "output_type": "display_data"
    },
    {
     "data": {
      "application/javascript": "\nif ((window.PyViz === undefined) || (window.PyViz instanceof HTMLElement)) {\n  window.PyViz = {comms: {}, comm_status:{}, kernels:{}, receivers: {}, plot_index: []}\n}\n\n\n    function JupyterCommManager() {\n    }\n\n    JupyterCommManager.prototype.register_target = function(plot_id, comm_id, msg_handler) {\n      if (window.comm_manager || ((window.Jupyter !== undefined) && (Jupyter.notebook.kernel != null))) {\n        var comm_manager = window.comm_manager || Jupyter.notebook.kernel.comm_manager;\n        comm_manager.register_target(comm_id, function(comm) {\n          comm.on_msg(msg_handler);\n        });\n      } else if ((plot_id in window.PyViz.kernels) && (window.PyViz.kernels[plot_id])) {\n        window.PyViz.kernels[plot_id].registerCommTarget(comm_id, function(comm) {\n          comm.onMsg = msg_handler;\n        });\n      } else if (typeof google != 'undefined' && google.colab.kernel != null) {\n        google.colab.kernel.comms.registerTarget(comm_id, (comm) => {\n          var messages = comm.messages[Symbol.asyncIterator]();\n          function processIteratorResult(result) {\n            var message = result.value;\n            console.log(message)\n            var content = {data: message.data, comm_id};\n            var buffers = []\n            for (var buffer of message.buffers || []) {\n              buffers.push(new DataView(buffer))\n            }\n            var metadata = message.metadata || {};\n            var msg = {content, buffers, metadata}\n            msg_handler(msg);\n            return messages.next().then(processIteratorResult);\n          }\n          return messages.next().then(processIteratorResult);\n        })\n      }\n    }\n\n    JupyterCommManager.prototype.get_client_comm = function(plot_id, comm_id, msg_handler) {\n      if (comm_id in window.PyViz.comms) {\n        return window.PyViz.comms[comm_id];\n      } else if (window.comm_manager || ((window.Jupyter !== undefined) && (Jupyter.notebook.kernel != null))) {\n        var comm_manager = window.comm_manager || Jupyter.notebook.kernel.comm_manager;\n        var comm = comm_manager.new_comm(comm_id, {}, {}, {}, comm_id);\n        if (msg_handler) {\n          comm.on_msg(msg_handler);\n        }\n      } else if ((plot_id in window.PyViz.kernels) && (window.PyViz.kernels[plot_id])) {\n        var comm = window.PyViz.kernels[plot_id].connectToComm(comm_id);\n        comm.open();\n        if (msg_handler) {\n          comm.onMsg = msg_handler;\n        }\n      } else if (typeof google != 'undefined' && google.colab.kernel != null) {\n        var comm_promise = google.colab.kernel.comms.open(comm_id)\n        comm_promise.then((comm) => {\n          window.PyViz.comms[comm_id] = comm;\n          if (msg_handler) {\n            var messages = comm.messages[Symbol.asyncIterator]();\n            function processIteratorResult(result) {\n              var message = result.value;\n              var content = {data: message.data};\n              var metadata = message.metadata || {comm_id};\n              var msg = {content, metadata}\n              msg_handler(msg);\n              return messages.next().then(processIteratorResult);\n            }\n            return messages.next().then(processIteratorResult);\n          }\n        }) \n        var sendClosure = (data, metadata, buffers, disposeOnDone) => {\n          return comm_promise.then((comm) => {\n            comm.send(data, metadata, buffers, disposeOnDone);\n          });\n        };\n        var comm = {\n          send: sendClosure\n        };\n      }\n      window.PyViz.comms[comm_id] = comm;\n      return comm;\n    }\n    window.PyViz.comm_manager = new JupyterCommManager();\n    \n\n\nvar JS_MIME_TYPE = 'application/javascript';\nvar HTML_MIME_TYPE = 'text/html';\nvar EXEC_MIME_TYPE = 'application/vnd.holoviews_exec.v0+json';\nvar CLASS_NAME = 'output';\n\n/**\n * Render data to the DOM node\n */\nfunction render(props, node) {\n  var div = document.createElement(\"div\");\n  var script = document.createElement(\"script\");\n  node.appendChild(div);\n  node.appendChild(script);\n}\n\n/**\n * Handle when a new output is added\n */\nfunction handle_add_output(event, handle) {\n  var output_area = handle.output_area;\n  var output = handle.output;\n  if ((output.data == undefined) || (!output.data.hasOwnProperty(EXEC_MIME_TYPE))) {\n    return\n  }\n  var id = output.metadata[EXEC_MIME_TYPE][\"id\"];\n  var toinsert = output_area.element.find(\".\" + CLASS_NAME.split(' ')[0]);\n  if (id !== undefined) {\n    var nchildren = toinsert.length;\n    var html_node = toinsert[nchildren-1].children[0];\n    html_node.innerHTML = output.data[HTML_MIME_TYPE];\n    var scripts = [];\n    var nodelist = html_node.querySelectorAll(\"script\");\n    for (var i in nodelist) {\n      if (nodelist.hasOwnProperty(i)) {\n        scripts.push(nodelist[i])\n      }\n    }\n\n    scripts.forEach( function (oldScript) {\n      var newScript = document.createElement(\"script\");\n      var attrs = [];\n      var nodemap = oldScript.attributes;\n      for (var j in nodemap) {\n        if (nodemap.hasOwnProperty(j)) {\n          attrs.push(nodemap[j])\n        }\n      }\n      attrs.forEach(function(attr) { newScript.setAttribute(attr.name, attr.value) });\n      newScript.appendChild(document.createTextNode(oldScript.innerHTML));\n      oldScript.parentNode.replaceChild(newScript, oldScript);\n    });\n    if (JS_MIME_TYPE in output.data) {\n      toinsert[nchildren-1].children[1].textContent = output.data[JS_MIME_TYPE];\n    }\n    output_area._hv_plot_id = id;\n    if ((window.Bokeh !== undefined) && (id in Bokeh.index)) {\n      window.PyViz.plot_index[id] = Bokeh.index[id];\n    } else {\n      window.PyViz.plot_index[id] = null;\n    }\n  } else if (output.metadata[EXEC_MIME_TYPE][\"server_id\"] !== undefined) {\n    var bk_div = document.createElement(\"div\");\n    bk_div.innerHTML = output.data[HTML_MIME_TYPE];\n    var script_attrs = bk_div.children[0].attributes;\n    for (var i = 0; i < script_attrs.length; i++) {\n      toinsert[toinsert.length - 1].childNodes[1].setAttribute(script_attrs[i].name, script_attrs[i].value);\n    }\n    // store reference to server id on output_area\n    output_area._bokeh_server_id = output.metadata[EXEC_MIME_TYPE][\"server_id\"];\n  }\n}\n\n/**\n * Handle when an output is cleared or removed\n */\nfunction handle_clear_output(event, handle) {\n  var id = handle.cell.output_area._hv_plot_id;\n  var server_id = handle.cell.output_area._bokeh_server_id;\n  if (((id === undefined) || !(id in PyViz.plot_index)) && (server_id !== undefined)) { return; }\n  var comm = window.PyViz.comm_manager.get_client_comm(\"hv-extension-comm\", \"hv-extension-comm\", function () {});\n  if (server_id !== null) {\n    comm.send({event_type: 'server_delete', 'id': server_id});\n    return;\n  } else if (comm !== null) {\n    comm.send({event_type: 'delete', 'id': id});\n  }\n  delete PyViz.plot_index[id];\n  if ((window.Bokeh !== undefined) & (id in window.Bokeh.index)) {\n    var doc = window.Bokeh.index[id].model.document\n    doc.clear();\n    const i = window.Bokeh.documents.indexOf(doc);\n    if (i > -1) {\n      window.Bokeh.documents.splice(i, 1);\n    }\n  }\n}\n\n/**\n * Handle kernel restart event\n */\nfunction handle_kernel_cleanup(event, handle) {\n  delete PyViz.comms[\"hv-extension-comm\"];\n  window.PyViz.plot_index = {}\n}\n\n/**\n * Handle update_display_data messages\n */\nfunction handle_update_output(event, handle) {\n  handle_clear_output(event, {cell: {output_area: handle.output_area}})\n  handle_add_output(event, handle)\n}\n\nfunction register_renderer(events, OutputArea) {\n  function append_mime(data, metadata, element) {\n    // create a DOM node to render to\n    var toinsert = this.create_output_subarea(\n    metadata,\n    CLASS_NAME,\n    EXEC_MIME_TYPE\n    );\n    this.keyboard_manager.register_events(toinsert);\n    // Render to node\n    var props = {data: data, metadata: metadata[EXEC_MIME_TYPE]};\n    render(props, toinsert[0]);\n    element.append(toinsert);\n    return toinsert\n  }\n\n  events.on('output_added.OutputArea', handle_add_output);\n  events.on('output_updated.OutputArea', handle_update_output);\n  events.on('clear_output.CodeCell', handle_clear_output);\n  events.on('delete.Cell', handle_clear_output);\n  events.on('kernel_ready.Kernel', handle_kernel_cleanup);\n\n  OutputArea.prototype.register_mime_type(EXEC_MIME_TYPE, append_mime, {\n    safe: true,\n    index: 0\n  });\n}\n\nif (window.Jupyter !== undefined) {\n  try {\n    var events = require('base/js/events');\n    var OutputArea = require('notebook/js/outputarea').OutputArea;\n    if (OutputArea.prototype.mime_types().indexOf(EXEC_MIME_TYPE) == -1) {\n      register_renderer(events, OutputArea);\n    }\n  } catch(err) {\n  }\n}\n",
      "application/vnd.holoviews_load.v0+json": ""
     },
     "metadata": {},
     "output_type": "display_data"
    },
    {
     "data": {
      "text/html": [
       "<style>*[data-root-id],\n",
       "*[data-root-id] > * {\n",
       "  box-sizing: border-box;\n",
       "  font-family: var(--jp-ui-font-family);\n",
       "  font-size: var(--jp-ui-font-size1);\n",
       "  color: var(--vscode-editor-foreground, var(--jp-ui-font-color1));\n",
       "}\n",
       "\n",
       "/* Override VSCode background color */\n",
       ".cell-output-ipywidget-background:has(\n",
       "    > .cell-output-ipywidget-background > .lm-Widget > *[data-root-id]\n",
       "  ),\n",
       ".cell-output-ipywidget-background:has(> .lm-Widget > *[data-root-id]) {\n",
       "  background-color: transparent !important;\n",
       "}\n",
       "</style>"
      ]
     },
     "metadata": {},
     "output_type": "display_data"
    },
    {
     "data": {
      "application/vnd.holoviews_exec.v0+json": "",
      "text/html": [
       "<div id='0b6e7527-b800-4ed5-b1c8-a464bd9d075e'>\n",
       "  <div id=\"cb8a7033-25a9-4566-8a40-3b4b0d31755b\" data-root-id=\"0b6e7527-b800-4ed5-b1c8-a464bd9d075e\" style=\"display: contents;\"></div>\n",
       "</div>\n",
       "<script type=\"application/javascript\">(function(root) {\n",
       "  var docs_json = {\"4c983fdf-f118-441a-8d01-9e24bb80d002\":{\"version\":\"3.4.1\",\"title\":\"Bokeh Application\",\"roots\":[{\"type\":\"object\",\"name\":\"panel.models.browser.BrowserInfo\",\"id\":\"0b6e7527-b800-4ed5-b1c8-a464bd9d075e\"},{\"type\":\"object\",\"name\":\"panel.models.comm_manager.CommManager\",\"id\":\"bacf089f-a3a1-4702-85b0-a214a7c405c7\",\"attributes\":{\"plot_id\":\"0b6e7527-b800-4ed5-b1c8-a464bd9d075e\",\"comm_id\":\"74471a9746e7425bb6a3d99970d7913b\",\"client_comm_id\":\"9dc306c97e9b4bfd98ef4a899dafc5e8\"}}],\"defs\":[{\"type\":\"model\",\"name\":\"ReactiveHTML1\"},{\"type\":\"model\",\"name\":\"FlexBox1\",\"properties\":[{\"name\":\"align_content\",\"kind\":\"Any\",\"default\":\"flex-start\"},{\"name\":\"align_items\",\"kind\":\"Any\",\"default\":\"flex-start\"},{\"name\":\"flex_direction\",\"kind\":\"Any\",\"default\":\"row\"},{\"name\":\"flex_wrap\",\"kind\":\"Any\",\"default\":\"wrap\"},{\"name\":\"gap\",\"kind\":\"Any\",\"default\":\"\"},{\"name\":\"justify_content\",\"kind\":\"Any\",\"default\":\"flex-start\"}]},{\"type\":\"model\",\"name\":\"FloatPanel1\",\"properties\":[{\"name\":\"config\",\"kind\":\"Any\",\"default\":{\"type\":\"map\"}},{\"name\":\"contained\",\"kind\":\"Any\",\"default\":true},{\"name\":\"position\",\"kind\":\"Any\",\"default\":\"right-top\"},{\"name\":\"offsetx\",\"kind\":\"Any\",\"default\":null},{\"name\":\"offsety\",\"kind\":\"Any\",\"default\":null},{\"name\":\"theme\",\"kind\":\"Any\",\"default\":\"primary\"},{\"name\":\"status\",\"kind\":\"Any\",\"default\":\"normalized\"}]},{\"type\":\"model\",\"name\":\"GridStack1\",\"properties\":[{\"name\":\"mode\",\"kind\":\"Any\",\"default\":\"warn\"},{\"name\":\"ncols\",\"kind\":\"Any\",\"default\":null},{\"name\":\"nrows\",\"kind\":\"Any\",\"default\":null},{\"name\":\"allow_resize\",\"kind\":\"Any\",\"default\":true},{\"name\":\"allow_drag\",\"kind\":\"Any\",\"default\":true},{\"name\":\"state\",\"kind\":\"Any\",\"default\":[]}]},{\"type\":\"model\",\"name\":\"drag1\",\"properties\":[{\"name\":\"slider_width\",\"kind\":\"Any\",\"default\":5},{\"name\":\"slider_color\",\"kind\":\"Any\",\"default\":\"black\"},{\"name\":\"value\",\"kind\":\"Any\",\"default\":50}]},{\"type\":\"model\",\"name\":\"click1\",\"properties\":[{\"name\":\"terminal_output\",\"kind\":\"Any\",\"default\":\"\"},{\"name\":\"debug_name\",\"kind\":\"Any\",\"default\":\"\"},{\"name\":\"clears\",\"kind\":\"Any\",\"default\":0}]},{\"type\":\"model\",\"name\":\"FastWrapper1\",\"properties\":[{\"name\":\"object\",\"kind\":\"Any\",\"default\":null},{\"name\":\"style\",\"kind\":\"Any\",\"default\":null}]},{\"type\":\"model\",\"name\":\"NotificationAreaBase1\",\"properties\":[{\"name\":\"js_events\",\"kind\":\"Any\",\"default\":{\"type\":\"map\"}},{\"name\":\"position\",\"kind\":\"Any\",\"default\":\"bottom-right\"},{\"name\":\"_clear\",\"kind\":\"Any\",\"default\":0}]},{\"type\":\"model\",\"name\":\"NotificationArea1\",\"properties\":[{\"name\":\"js_events\",\"kind\":\"Any\",\"default\":{\"type\":\"map\"}},{\"name\":\"notifications\",\"kind\":\"Any\",\"default\":[]},{\"name\":\"position\",\"kind\":\"Any\",\"default\":\"bottom-right\"},{\"name\":\"_clear\",\"kind\":\"Any\",\"default\":0},{\"name\":\"types\",\"kind\":\"Any\",\"default\":[{\"type\":\"map\",\"entries\":[[\"type\",\"warning\"],[\"background\",\"#ffc107\"],[\"icon\",{\"type\":\"map\",\"entries\":[[\"className\",\"fas fa-exclamation-triangle\"],[\"tagName\",\"i\"],[\"color\",\"white\"]]}]]},{\"type\":\"map\",\"entries\":[[\"type\",\"info\"],[\"background\",\"#007bff\"],[\"icon\",{\"type\":\"map\",\"entries\":[[\"className\",\"fas fa-info-circle\"],[\"tagName\",\"i\"],[\"color\",\"white\"]]}]]}]}]},{\"type\":\"model\",\"name\":\"Notification\",\"properties\":[{\"name\":\"background\",\"kind\":\"Any\",\"default\":null},{\"name\":\"duration\",\"kind\":\"Any\",\"default\":3000},{\"name\":\"icon\",\"kind\":\"Any\",\"default\":null},{\"name\":\"message\",\"kind\":\"Any\",\"default\":\"\"},{\"name\":\"notification_type\",\"kind\":\"Any\",\"default\":null},{\"name\":\"_destroyed\",\"kind\":\"Any\",\"default\":false}]},{\"type\":\"model\",\"name\":\"TemplateActions1\",\"properties\":[{\"name\":\"open_modal\",\"kind\":\"Any\",\"default\":0},{\"name\":\"close_modal\",\"kind\":\"Any\",\"default\":0}]},{\"type\":\"model\",\"name\":\"BootstrapTemplateActions1\",\"properties\":[{\"name\":\"open_modal\",\"kind\":\"Any\",\"default\":0},{\"name\":\"close_modal\",\"kind\":\"Any\",\"default\":0}]},{\"type\":\"model\",\"name\":\"TemplateEditor1\",\"properties\":[{\"name\":\"layout\",\"kind\":\"Any\",\"default\":[]}]},{\"type\":\"model\",\"name\":\"MaterialTemplateActions1\",\"properties\":[{\"name\":\"open_modal\",\"kind\":\"Any\",\"default\":0},{\"name\":\"close_modal\",\"kind\":\"Any\",\"default\":0}]},{\"type\":\"model\",\"name\":\"copy_to_clipboard1\",\"properties\":[{\"name\":\"fill\",\"kind\":\"Any\",\"default\":\"none\"},{\"name\":\"value\",\"kind\":\"Any\",\"default\":null}]}]}};\n",
       "  var render_items = [{\"docid\":\"4c983fdf-f118-441a-8d01-9e24bb80d002\",\"roots\":{\"0b6e7527-b800-4ed5-b1c8-a464bd9d075e\":\"cb8a7033-25a9-4566-8a40-3b4b0d31755b\"},\"root_ids\":[\"0b6e7527-b800-4ed5-b1c8-a464bd9d075e\"]}];\n",
       "  var docs = Object.values(docs_json)\n",
       "  if (!docs) {\n",
       "    return\n",
       "  }\n",
       "  const py_version = docs[0].version.replace('rc', '-rc.').replace('.dev', '-dev.')\n",
       "  function embed_document(root) {\n",
       "    var Bokeh = get_bokeh(root)\n",
       "    Bokeh.embed.embed_items_notebook(docs_json, render_items);\n",
       "    for (const render_item of render_items) {\n",
       "      for (const root_id of render_item.root_ids) {\n",
       "\tconst id_el = document.getElementById(root_id)\n",
       "\tif (id_el.children.length && (id_el.children[0].className === 'bk-root')) {\n",
       "\t  const root_el = id_el.children[0]\n",
       "\t  root_el.id = root_el.id + '-rendered'\n",
       "\t}\n",
       "      }\n",
       "    }\n",
       "  }\n",
       "  function get_bokeh(root) {\n",
       "    if (root.Bokeh === undefined) {\n",
       "      return null\n",
       "    } else if (root.Bokeh.version !== py_version) {\n",
       "      if (root.Bokeh.versions === undefined || !root.Bokeh.versions.has(py_version)) {\n",
       "\treturn null\n",
       "      }\n",
       "      return root.Bokeh.versions.get(py_version);\n",
       "    } else if (root.Bokeh.version === py_version) {\n",
       "      return root.Bokeh\n",
       "    }\n",
       "    return null\n",
       "  }\n",
       "  function is_loaded(root) {\n",
       "    var Bokeh = get_bokeh(root)\n",
       "    return (Bokeh != null && Bokeh.Panel !== undefined)\n",
       "  }\n",
       "  if (is_loaded(root)) {\n",
       "    embed_document(root);\n",
       "  } else {\n",
       "    var attempts = 0;\n",
       "    var timer = setInterval(function(root) {\n",
       "      if (is_loaded(root)) {\n",
       "        clearInterval(timer);\n",
       "        embed_document(root);\n",
       "      } else if (document.readyState == \"complete\") {\n",
       "        attempts++;\n",
       "        if (attempts > 200) {\n",
       "          clearInterval(timer);\n",
       "\t  var Bokeh = get_bokeh(root)\n",
       "\t  if (Bokeh == null || Bokeh.Panel == null) {\n",
       "            console.warn(\"Panel: ERROR: Unable to run Panel code because Bokeh or Panel library is missing\");\n",
       "\t  } else {\n",
       "\t    console.warn(\"Panel: WARNING: Attempting to render but not all required libraries could be resolved.\")\n",
       "\t    embed_document(root)\n",
       "\t  }\n",
       "        }\n",
       "      }\n",
       "    }, 25, root)\n",
       "  }\n",
       "})(window);</script>"
      ]
     },
     "metadata": {
      "application/vnd.holoviews_exec.v0+json": {
       "id": "0b6e7527-b800-4ed5-b1c8-a464bd9d075e"
      }
     },
     "output_type": "display_data"
    }
   ],
   "source": [
    "pn.extension()\n",
    "\n",
    "# load simulation parameters\n",
    "with open(\"sim_parameters.json\", \"rb\") as f:\n",
    "    meta = json.load(f)"
   ]
  },
  {
   "cell_type": "code",
   "execution_count": 7,
   "metadata": {},
   "outputs": [],
   "source": [
    "ps = \"ions\""
   ]
  },
  {
   "cell_type": "code",
   "execution_count": 8,
   "metadata": {},
   "outputs": [],
   "source": [
    "import numpy as np\n",
    "import unyt as u\n",
    "from utils import check_ds_type\n",
    "from unyt.physical_constants import mu_0\n",
    "\n",
    "def add_V_Alfven_field(ds: Dataset, direction: str):\n",
    "    #: NOTE: rho is species charge density\n",
    "\n",
    "    def _V_Alfven(field, data):\n",
    "        rho_m = data[\"rho\"] * meta[\"m_ion\"] * u.m**(-3) / u.qp_mks.value * u.kg\n",
    "        return data[f\"B{direction}\"] / np.sqrt(\n",
    "            mu_0 * rho_m\n",
    "        )\n",
    "\n",
    "    name = (\"boxlib\", f\"V_Alfven_{direction}\")\n",
    "    \n",
    "    ds.add_field(name, function=_V_Alfven, units=\"km/s\", sampling_type=\"local\")\n",
    "\n",
    "\n",
    "def add_V_field(ds: Dataset, direction: str):\n",
    "    def _V(field, data):\n",
    "        return data[f\"particle_momentum_{direction}\"] / meta[\"m_ion\"] / u.kg\n",
    "\n",
    "    name = (ps, f\"V_{direction}\")\n",
    "\n",
    "    ds.add_field(name, function=_V, units=\"km/s\", sampling_type=\"particle\")\n",
    "\n",
    "\n",
    "def add_field(ds: Dataset):\n",
    "    type = check_ds_type(ds)\n",
    "    if type == \"particle\":\n",
    "        add_V_field(ds, \"x\")\n",
    "        add_V_field(ds, \"y\")\n",
    "        add_V_field(ds, \"z\")\n",
    "    elif type == \"field\":\n",
    "        add_V_Alfven_field(ds, \"x\")\n",
    "        add_V_Alfven_field(ds, \"y\")\n",
    "        add_V_Alfven_field(ds, \"z\")"
   ]
  },
  {
   "cell_type": "markdown",
   "metadata": {},
   "source": [
    "## Fields"
   ]
  },
  {
   "cell_type": "code",
   "execution_count": 9,
   "metadata": {},
   "outputs": [],
   "source": [
    "from utils import load_ts_all\n",
    "ts_field, ts_part = load_ts_all(meta) "
   ]
  },
  {
   "cell_type": "code",
   "execution_count": 10,
   "metadata": {},
   "outputs": [
    {
     "name": "stderr",
     "output_type": "stream",
     "text": [
      "ic| len(ts_field): 501\n",
      "yt : [INFO     ] 2024-05-01 16:15:55,789 Parameters: current_time              = 0.0\n",
      "yt : [INFO     ] 2024-05-01 16:15:55,790 Parameters: domain_dimensions         = [256   1   1]\n",
      "yt : [INFO     ] 2024-05-01 16:15:55,790 Parameters: domain_left_edge          = [0. 0. 0.]\n",
      "yt : [INFO     ] 2024-05-01 16:15:55,790 Parameters: domain_right_edge         = [2.91469729e+06 1.00000000e+00 1.00000000e+00]\n",
      "yt : [INFO     ] 2024-05-01 16:15:55,813 Parameters: current_time              = 0.0\n",
      "yt : [INFO     ] 2024-05-01 16:15:55,813 Parameters: domain_dimensions         = [256   1   1]\n",
      "yt : [INFO     ] 2024-05-01 16:15:55,814 Parameters: domain_left_edge          = [0. 0. 0.]\n",
      "yt : [INFO     ] 2024-05-01 16:15:55,814 Parameters: domain_right_edge         = [2.91469729e+06 1.00000000e+00 1.00000000e+00]\n"
     ]
    }
   ],
   "source": [
    "ic(len(ts_field))\n",
    "ds_field: Dataset = ts_field[0]\n",
    "ds_part: Dataset = ts_part[0]"
   ]
  },
  {
   "cell_type": "markdown",
   "metadata": {},
   "source": [
    "## Particles"
   ]
  },
  {
   "cell_type": "code",
   "execution_count": 11,
   "metadata": {},
   "outputs": [],
   "source": [
    "def test_plot_part():\n",
    "\n",
    "    x_field = f\"particle_position_{direction}\"\n",
    "    y_field = \"particle_momentum_y\"\n",
    "\n",
    "    p = yt.ParticlePlot(\n",
    "        ds,\n",
    "        x_field,\n",
    "        y_field,\n",
    "        (ps, \"particle_weight\"),\n",
    "    )\n",
    "    p.set_log(y_field, False)\n",
    "    return p\n",
    "\n",
    "# test_plot_part()"
   ]
  },
  {
   "cell_type": "code",
   "execution_count": 12,
   "metadata": {},
   "outputs": [],
   "source": [
    "# profile = create_part_profile(\n",
    "    # ds_part.all_data(),\n",
    "    # fields=[weight_field, field],\n",
    "# )"
   ]
  },
  {
   "cell_type": "code",
   "execution_count": 13,
   "metadata": {},
   "outputs": [],
   "source": [
    "# plot_field_with_plasma_profile_ts(ts_field, ts_part, name=\"v_comp\", step=4)"
   ]
  },
  {
   "cell_type": "code",
   "execution_count": 14,
   "metadata": {},
   "outputs": [],
   "source": [
    "#: check the field list\n",
    "# print(ds_part.field_list)\n",
    "# print(ds_part.derived_field_list)"
   ]
  },
  {
   "cell_type": "code",
   "execution_count": 15,
   "metadata": {},
   "outputs": [],
   "source": [
    "def test_add_field():\n",
    "    fname = ds.add_deposited_particle_field(\n",
    "        (ps, \"particle_momentum_y\"),\n",
    "        method=\"nearest\"\n",
    "    )\n",
    "    print(fname)\n",
    "    print(ds.fluid_types)\n",
    "    print(ds.particle_types)\n",
    "    return fname\n",
    "\n",
    "\n",
    "# YTFieldTypeNotFound: Could not find field type 'deposit'."
   ]
  },
  {
   "cell_type": "markdown",
   "metadata": {},
   "source": [
    "### Pressure"
   ]
  },
  {
   "cell_type": "code",
   "execution_count": 16,
   "metadata": {},
   "outputs": [],
   "source": [
    "import polars as pl\n",
    "import polars.selectors as cs\n",
    "import numpy as np"
   ]
  },
  {
   "cell_type": "code",
   "execution_count": 17,
   "metadata": {},
   "outputs": [],
   "source": [
    "# df[\"x\"] = pd.qcut(df[\"particle_position_x\"], q=10)"
   ]
  },
  {
   "cell_type": "code",
   "execution_count": 22,
   "metadata": {},
   "outputs": [],
   "source": [
    "from utils import ds2df\n",
    "\n",
    "n = 64\n",
    "if dim == 1 or dim == 2:\n",
    "    i = 0\n",
    "else:\n",
    "    i = 2\n",
    "\n",
    "def calc_pressure(ds, direction):\n",
    "    df =  pl.DataFrame(ds2df(ds))\n",
    "    breaks = np.linspace(ds.domain_left_edge[i], ds.domain_right_edge[i], ds.domain_dimensions[i]+1)\n",
    "    col = f\"particle_position_{direction}\"\n",
    "    return df.with_columns(\n",
    "        # pl.col(f\"particle_position_{direction}\").qcut(n).alias(direction),\n",
    "        pl.col(col).cut(breaks, include_breaks=True),\n",
    "    ).with_columns(\n",
    "        (cs.contains(\"momentum\") - cs.contains(\"momentum\").mean().over(col))\n",
    "        .pow(2)\n",
    "        .name.suffix(\"_var\"),\n",
    "        # cs.contains(\"momentum\").mean().over(direction).name.suffix(\"_mean\"),\n",
    "    ).group_by(col).agg(\n",
    "        cs.contains(\"var\").sum(),\n",
    "        pl.col(\"time\").first()\n",
    "    ).unnest(col).rename({\"brk\": direction}).drop(cs.by_dtype(pl.Categorical))"
   ]
  },
  {
   "cell_type": "code",
   "execution_count": 20,
   "metadata": {},
   "outputs": [],
   "source": [
    "from utils import ds2xr, ds2df"
   ]
  },
  {
   "cell_type": "code",
   "execution_count": 21,
   "metadata": {},
   "outputs": [
    {
     "data": {
      "text/plain": [
       "WarpXDataset: /Users/zijin/projects/swd_simulation/warpx/01_oblique_linear_alfven/dim_1_beta_0.25_theta_60.0_eta_100.0/diags/diag1000000"
      ]
     },
     "execution_count": 21,
     "metadata": {},
     "output_type": "execute_result"
    }
   ],
   "source": [
    "ds_field"
   ]
  },
  {
   "cell_type": "code",
   "execution_count": 47,
   "metadata": {},
   "outputs": [],
   "source": [
    "Bfields = [\"Bx\", \"By\", \"Bz\"]\n",
    "\n",
    "p_df = pl.concat(calc_pressure(ds, direction) for ds in ts_part).with_columns(pl.col(direction).rank(\"dense\"))\n",
    "b_df = pl.concat(pl.DataFrame(ds2df(ds, fields=Bfields)) for ds in ts_field).with_columns(pl.col(direction).rank(\"dense\"))\n",
    "# df_part.write_ipc(\"part_pressure.arrow\")"
   ]
  },
  {
   "cell_type": "code",
   "execution_count": 51,
   "metadata": {},
   "outputs": [],
   "source": [
    "p_df = p_df.rename(\n",
    "    {\n",
    "        \"particle_momentum_x_var\": \"p_xx\",\n",
    "        \"particle_momentum_y_var\": \"p_yy\",\n",
    "        \"particle_momentum_z_var\": \"p_zz\",\n",
    "    }\n",
    ")\n",
    "\n",
    "b_df = b_df.with_columns(\n",
    "    Bmag = np.linalg.norm(b_df[Bfields],axis=1)\n",
    ")"
   ]
  },
  {
   "cell_type": "code",
   "execution_count": 52,
   "metadata": {},
   "outputs": [
    {
     "data": {
      "text/plain": [
       "'z'"
      ]
     },
     "execution_count": 52,
     "metadata": {},
     "output_type": "execute_result"
    }
   ],
   "source": [
    "direction"
   ]
  },
  {
   "cell_type": "code",
   "execution_count": 53,
   "metadata": {},
   "outputs": [],
   "source": [
    "direction = \"z\"\n",
    "\n",
    "df = p_df.join(\n",
    "    b_df, on=[\"time\", direction]\n",
    ").with_columns(\n",
    "    p_parp=(\n",
    "        pl.col(\"p_xx\") * pl.col(\"Bx\").abs()\n",
    "        + pl.col(\"p_yy\") * pl.col(\"By\").abs()\n",
    "        + pl.col(\"p_zz\") * pl.col(\"Bz\").abs()\n",
    "    )\n",
    "    / pl.col(\"Bmag\")\n",
    ").with_columns(\n",
    "    p_perp = (pl.col(\"p_xx\") + pl.col(\"p_yy\") + pl.col(\"p_zz\") - pl.col(\"p_parp\")) / 2\n",
    ").with_columns(\n",
    "    anisotropy = pl.col(\"p_perp\") / pl.col(\"p_parp\")\n",
    ")\n",
    "df.write_ipc(\"pressure.arrow\")"
   ]
  },
  {
   "cell_type": "code",
   "execution_count": 54,
   "metadata": {},
   "outputs": [
    {
     "data": {
      "text/html": [
       "<div><style>\n",
       ".dataframe > thead > tr,\n",
       ".dataframe > tbody > tr {\n",
       "  text-align: right;\n",
       "  white-space: pre-wrap;\n",
       "}\n",
       "</style>\n",
       "<small>shape: (128_256, 14)</small><table border=\"1\" class=\"dataframe\"><thead><tr><th>z</th><th>p_xx</th><th>p_yy</th><th>p_zz</th><th>time</th><th>Bx</th><th>By</th><th>Bz</th><th>x</th><th>y</th><th>Bmag</th><th>p_parp</th><th>p_perp</th><th>anisotropy</th></tr><tr><td>u32</td><td>f64</td><td>f64</td><td>f64</td><td>f64</td><td>f64</td><td>f64</td><td>f64</td><td>f64</td><td>f64</td><td>f64</td><td>f64</td><td>f64</td><td>f64</td></tr></thead><tbody><tr><td>1</td><td>1.0541e-42</td><td>8.2167e-43</td><td>1.0052e-42</td><td>0.0</td><td>8.6603e-8</td><td>9.9970e-8</td><td>5.0000e-8</td><td>0.5</td><td>0.5</td><td>1.4140e-7</td><td>1.5820e-42</td><td>6.4951e-43</td><td>0.410571</td></tr><tr><td>2</td><td>1.3321e-42</td><td>1.1860e-42</td><td>6.6635e-43</td><td>0.0</td><td>8.6603e-8</td><td>9.9729e-8</td><td>5.0000e-8</td><td>0.5</td><td>0.5</td><td>1.4123e-7</td><td>1.8902e-42</td><td>6.4709e-43</td><td>0.342339</td></tr><tr><td>3</td><td>1.0122e-42</td><td>7.5734e-43</td><td>1.1687e-42</td><td>0.0</td><td>8.6603e-8</td><td>9.9248e-8</td><td>5.0000e-8</td><td>0.5</td><td>0.5</td><td>1.4089e-7</td><td>1.5704e-42</td><td>6.8391e-43</td><td>0.435488</td></tr><tr><td>4</td><td>8.2195e-43</td><td>1.1861e-42</td><td>1.0771e-42</td><td>0.0</td><td>8.6603e-8</td><td>9.8528e-8</td><td>5.0000e-8</td><td>0.5</td><td>0.5</td><td>1.4038e-7</td><td>1.7231e-42</td><td>6.8101e-43</td><td>0.395217</td></tr><tr><td>5</td><td>8.4323e-43</td><td>1.0714e-42</td><td>1.1372e-42</td><td>0.0</td><td>8.6603e-8</td><td>9.7570e-8</td><td>5.0000e-8</td><td>0.5</td><td>0.5</td><td>1.3971e-7</td><td>1.6778e-42</td><td>6.8696e-43</td><td>0.409429</td></tr><tr><td>&hellip;</td><td>&hellip;</td><td>&hellip;</td><td>&hellip;</td><td>&hellip;</td><td>&hellip;</td><td>&hellip;</td><td>&hellip;</td><td>&hellip;</td><td>&hellip;</td><td>&hellip;</td><td>&hellip;</td><td>&hellip;</td><td>&hellip;</td></tr><tr><td>252</td><td>1.8606e-42</td><td>1.4379e-42</td><td>1.0721e-42</td><td>327.972254</td><td>9.0782e-8</td><td>3.1514e-8</td><td>5.0000e-8</td><td>0.5</td><td>0.5</td><td>1.0833e-7</td><td>2.4724e-42</td><td>9.4910e-43</td><td>0.383871</td></tr><tr><td>253</td><td>2.0428e-42</td><td>1.1462e-42</td><td>2.0095e-42</td><td>327.972254</td><td>9.1139e-8</td><td>3.2258e-8</td><td>5.0000e-8</td><td>0.5</td><td>0.5</td><td>1.0884e-7</td><td>2.9734e-42</td><td>1.1126e-42</td><td>0.374187</td></tr><tr><td>254</td><td>1.7203e-42</td><td>1.1514e-42</td><td>1.1030e-42</td><td>327.972254</td><td>8.7394e-8</td><td>3.1365e-8</td><td>5.0000e-8</td><td>0.5</td><td>0.5</td><td>1.0546e-7</td><td>2.2911e-42</td><td>8.4186e-43</td><td>0.367452</td></tr><tr><td>255</td><td>2.2857e-42</td><td>1.0537e-42</td><td>1.2034e-42</td><td>327.972254</td><td>8.2428e-8</td><td>3.4056e-8</td><td>5.0000e-8</td><td>0.5</td><td>0.5</td><td>1.0225e-7</td><td>2.7821e-42</td><td>8.8032e-43</td><td>0.316426</td></tr><tr><td>256</td><td>2.1648e-42</td><td>1.3468e-42</td><td>1.6480e-42</td><td>327.972254</td><td>8.1181e-8</td><td>3.9520e-8</td><td>5.0000e-8</td><td>0.5</td><td>0.5</td><td>1.0321e-7</td><td>3.0168e-42</td><td>1.0714e-42</td><td>0.355137</td></tr></tbody></table></div>"
      ],
      "text/plain": [
       "shape: (128_256, 14)\n",
       "┌─────┬────────────┬────────────┬────────────┬───┬───────────┬────────────┬────────────┬───────────┐\n",
       "│ z   ┆ p_xx       ┆ p_yy       ┆ p_zz       ┆ … ┆ Bmag      ┆ p_parp     ┆ p_perp     ┆ anisotrop │\n",
       "│ --- ┆ ---        ┆ ---        ┆ ---        ┆   ┆ ---       ┆ ---        ┆ ---        ┆ y         │\n",
       "│ u32 ┆ f64        ┆ f64        ┆ f64        ┆   ┆ f64       ┆ f64        ┆ f64        ┆ ---       │\n",
       "│     ┆            ┆            ┆            ┆   ┆           ┆            ┆            ┆ f64       │\n",
       "╞═════╪════════════╪════════════╪════════════╪═══╪═══════════╪════════════╪════════════╪═══════════╡\n",
       "│ 1   ┆ 1.0541e-42 ┆ 8.2167e-43 ┆ 1.0052e-42 ┆ … ┆ 1.4140e-7 ┆ 1.5820e-42 ┆ 6.4951e-43 ┆ 0.410571  │\n",
       "│ 2   ┆ 1.3321e-42 ┆ 1.1860e-42 ┆ 6.6635e-43 ┆ … ┆ 1.4123e-7 ┆ 1.8902e-42 ┆ 6.4709e-43 ┆ 0.342339  │\n",
       "│ 3   ┆ 1.0122e-42 ┆ 7.5734e-43 ┆ 1.1687e-42 ┆ … ┆ 1.4089e-7 ┆ 1.5704e-42 ┆ 6.8391e-43 ┆ 0.435488  │\n",
       "│ 4   ┆ 8.2195e-43 ┆ 1.1861e-42 ┆ 1.0771e-42 ┆ … ┆ 1.4038e-7 ┆ 1.7231e-42 ┆ 6.8101e-43 ┆ 0.395217  │\n",
       "│ 5   ┆ 8.4323e-43 ┆ 1.0714e-42 ┆ 1.1372e-42 ┆ … ┆ 1.3971e-7 ┆ 1.6778e-42 ┆ 6.8696e-43 ┆ 0.409429  │\n",
       "│ …   ┆ …          ┆ …          ┆ …          ┆ … ┆ …         ┆ …          ┆ …          ┆ …         │\n",
       "│ 252 ┆ 1.8606e-42 ┆ 1.4379e-42 ┆ 1.0721e-42 ┆ … ┆ 1.0833e-7 ┆ 2.4724e-42 ┆ 9.4910e-43 ┆ 0.383871  │\n",
       "│ 253 ┆ 2.0428e-42 ┆ 1.1462e-42 ┆ 2.0095e-42 ┆ … ┆ 1.0884e-7 ┆ 2.9734e-42 ┆ 1.1126e-42 ┆ 0.374187  │\n",
       "│ 254 ┆ 1.7203e-42 ┆ 1.1514e-42 ┆ 1.1030e-42 ┆ … ┆ 1.0546e-7 ┆ 2.2911e-42 ┆ 8.4186e-43 ┆ 0.367452  │\n",
       "│ 255 ┆ 2.2857e-42 ┆ 1.0537e-42 ┆ 1.2034e-42 ┆ … ┆ 1.0225e-7 ┆ 2.7821e-42 ┆ 8.8032e-43 ┆ 0.316426  │\n",
       "│ 256 ┆ 2.1648e-42 ┆ 1.3468e-42 ┆ 1.6480e-42 ┆ … ┆ 1.0321e-7 ┆ 3.0168e-42 ┆ 1.0714e-42 ┆ 0.355137  │\n",
       "└─────┴────────────┴────────────┴────────────┴───┴───────────┴────────────┴────────────┴───────────┘"
      ]
     },
     "execution_count": 54,
     "metadata": {},
     "output_type": "execute_result"
    }
   ],
   "source": [
    "df"
   ]
  },
  {
   "cell_type": "code",
   "execution_count": 102,
   "metadata": {},
   "outputs": [
    {
     "data": {
      "text/html": [
       "<div><style>\n",
       ".dataframe > thead > tr,\n",
       ".dataframe > tbody > tr {\n",
       "  text-align: right;\n",
       "  white-space: pre-wrap;\n",
       "}\n",
       "</style>\n",
       "<small>shape: (256, 18)</small><table border=\"1\" class=\"dataframe\"><thead><tr><th>Bx</th><th>By</th><th>Bz</th><th>Ex</th><th>Ey</th><th>Ez</th><th>jx</th><th>jy</th><th>jz</th><th>rho</th><th>z</th><th>x</th><th>y</th><th>time</th><th>particle_position_z</th><th>particle_momentum_x_var</th><th>particle_momentum_y_var</th><th>particle_momentum_z_var</th></tr><tr><td>f64</td><td>f64</td><td>f64</td><td>f64</td><td>f64</td><td>f64</td><td>f64</td><td>f64</td><td>f64</td><td>f64</td><td>f64</td><td>f64</td><td>f64</td><td>f64</td><td>f64</td><td>f64</td><td>f64</td><td>f64</td></tr></thead><tbody><tr><td>8.6603e-8</td><td>9.9970e-8</td><td>5.0000e-8</td><td>0.0</td><td>0.0</td><td>0.0</td><td>0.0</td><td>0.0</td><td>0.0</td><td>1.5826e-11</td><td>5692.768137</td><td>0.5</td><td>0.5</td><td>0.0</td><td>11385.536275</td><td>1.0541e-42</td><td>8.2167e-43</td><td>1.0052e-42</td></tr><tr><td>8.6603e-8</td><td>9.9729e-8</td><td>5.0000e-8</td><td>0.0</td><td>0.0</td><td>0.0</td><td>0.0</td><td>0.0</td><td>0.0</td><td>1.5881e-11</td><td>17078.304412</td><td>0.5</td><td>0.5</td><td>0.0</td><td>22771.072549</td><td>1.3321e-42</td><td>1.1860e-42</td><td>6.6635e-43</td></tr><tr><td>8.6603e-8</td><td>9.9248e-8</td><td>5.0000e-8</td><td>0.0</td><td>0.0</td><td>0.0</td><td>0.0</td><td>0.0</td><td>0.0</td><td>1.5946e-11</td><td>28463.840686</td><td>0.5</td><td>0.5</td><td>0.0</td><td>34156.608824</td><td>1.0122e-42</td><td>7.5734e-43</td><td>1.1687e-42</td></tr><tr><td>8.6603e-8</td><td>9.8528e-8</td><td>5.0000e-8</td><td>0.0</td><td>0.0</td><td>0.0</td><td>0.0</td><td>0.0</td><td>0.0</td><td>1.6274e-11</td><td>39849.376961</td><td>0.5</td><td>0.5</td><td>0.0</td><td>45542.145098</td><td>8.2195e-43</td><td>1.1861e-42</td><td>1.0771e-42</td></tr><tr><td>8.6603e-8</td><td>9.7570e-8</td><td>5.0000e-8</td><td>0.0</td><td>0.0</td><td>0.0</td><td>0.0</td><td>0.0</td><td>0.0</td><td>1.6521e-11</td><td>51234.913235</td><td>0.5</td><td>0.5</td><td>0.0</td><td>56927.681373</td><td>8.4323e-43</td><td>1.0714e-42</td><td>1.1372e-42</td></tr><tr><td>&hellip;</td><td>&hellip;</td><td>&hellip;</td><td>&hellip;</td><td>&hellip;</td><td>&hellip;</td><td>&hellip;</td><td>&hellip;</td><td>&hellip;</td><td>&hellip;</td><td>&hellip;</td><td>&hellip;</td><td>&hellip;</td><td>&hellip;</td><td>&hellip;</td><td>&hellip;</td><td>&hellip;</td><td>&hellip;</td></tr><tr><td>8.6603e-8</td><td>9.7570e-8</td><td>5.0000e-8</td><td>0.0</td><td>0.0</td><td>0.0</td><td>0.0</td><td>0.0</td><td>0.0</td><td>1.6094e-11</td><td>2.8635e6</td><td>0.5</td><td>0.5</td><td>0.0</td><td>2.8692e6</td><td>1.0439e-42</td><td>1.3101e-42</td><td>1.0987e-42</td></tr><tr><td>8.6603e-8</td><td>9.8528e-8</td><td>5.0000e-8</td><td>0.0</td><td>0.0</td><td>0.0</td><td>0.0</td><td>0.0</td><td>0.0</td><td>1.5885e-11</td><td>2.8748e6</td><td>0.5</td><td>0.5</td><td>0.0</td><td>2.8805e6</td><td>9.6623e-43</td><td>1.1275e-42</td><td>1.1714e-42</td></tr><tr><td>8.6603e-8</td><td>9.9248e-8</td><td>5.0000e-8</td><td>0.0</td><td>0.0</td><td>0.0</td><td>0.0</td><td>0.0</td><td>0.0</td><td>1.6237e-11</td><td>2.8862e6</td><td>0.5</td><td>0.5</td><td>0.0</td><td>2.8919e6</td><td>8.1829e-43</td><td>9.9498e-43</td><td>1.2100e-42</td></tr><tr><td>8.6603e-8</td><td>9.9729e-8</td><td>5.0000e-8</td><td>0.0</td><td>0.0</td><td>0.0</td><td>0.0</td><td>0.0</td><td>0.0</td><td>1.6075e-11</td><td>2.8976e6</td><td>0.5</td><td>0.5</td><td>0.0</td><td>2.9033e6</td><td>1.4731e-42</td><td>1.5068e-42</td><td>1.3024e-42</td></tr><tr><td>8.6603e-8</td><td>9.9970e-8</td><td>5.0000e-8</td><td>0.0</td><td>0.0</td><td>0.0</td><td>0.0</td><td>0.0</td><td>0.0</td><td>1.5770e-11</td><td>2.9090e6</td><td>0.5</td><td>0.5</td><td>0.0</td><td>2.9147e6</td><td>1.3627e-42</td><td>1.0684e-42</td><td>1.0307e-42</td></tr></tbody></table></div>"
      ],
      "text/plain": [
       "shape: (256, 18)\n",
       "┌───────────┬───────────┬───────────┬─────┬───┬─────────────┬────────────┬────────────┬────────────┐\n",
       "│ Bx        ┆ By        ┆ Bz        ┆ Ex  ┆ … ┆ particle_po ┆ particle_m ┆ particle_m ┆ particle_m │\n",
       "│ ---       ┆ ---       ┆ ---       ┆ --- ┆   ┆ sition_z    ┆ omentum_x_ ┆ omentum_y_ ┆ omentum_z_ │\n",
       "│ f64       ┆ f64       ┆ f64       ┆ f64 ┆   ┆ ---         ┆ var        ┆ var        ┆ var        │\n",
       "│           ┆           ┆           ┆     ┆   ┆ f64         ┆ ---        ┆ ---        ┆ ---        │\n",
       "│           ┆           ┆           ┆     ┆   ┆             ┆ f64        ┆ f64        ┆ f64        │\n",
       "╞═══════════╪═══════════╪═══════════╪═════╪═══╪═════════════╪════════════╪════════════╪════════════╡\n",
       "│ 8.6603e-8 ┆ 9.9970e-8 ┆ 5.0000e-8 ┆ 0.0 ┆ … ┆ 11385.53627 ┆ 1.0541e-42 ┆ 8.2167e-43 ┆ 1.0052e-42 │\n",
       "│           ┆           ┆           ┆     ┆   ┆ 5           ┆            ┆            ┆            │\n",
       "│ 8.6603e-8 ┆ 9.9729e-8 ┆ 5.0000e-8 ┆ 0.0 ┆ … ┆ 22771.07254 ┆ 1.3321e-42 ┆ 1.1860e-42 ┆ 6.6635e-43 │\n",
       "│           ┆           ┆           ┆     ┆   ┆ 9           ┆            ┆            ┆            │\n",
       "│ 8.6603e-8 ┆ 9.9248e-8 ┆ 5.0000e-8 ┆ 0.0 ┆ … ┆ 34156.60882 ┆ 1.0122e-42 ┆ 7.5734e-43 ┆ 1.1687e-42 │\n",
       "│           ┆           ┆           ┆     ┆   ┆ 4           ┆            ┆            ┆            │\n",
       "│ 8.6603e-8 ┆ 9.8528e-8 ┆ 5.0000e-8 ┆ 0.0 ┆ … ┆ 45542.14509 ┆ 8.2195e-43 ┆ 1.1861e-42 ┆ 1.0771e-42 │\n",
       "│           ┆           ┆           ┆     ┆   ┆ 8           ┆            ┆            ┆            │\n",
       "│ 8.6603e-8 ┆ 9.7570e-8 ┆ 5.0000e-8 ┆ 0.0 ┆ … ┆ 56927.68137 ┆ 8.4323e-43 ┆ 1.0714e-42 ┆ 1.1372e-42 │\n",
       "│           ┆           ┆           ┆     ┆   ┆ 3           ┆            ┆            ┆            │\n",
       "│ …         ┆ …         ┆ …         ┆ …   ┆ … ┆ …           ┆ …          ┆ …          ┆ …          │\n",
       "│ 8.6603e-8 ┆ 9.7570e-8 ┆ 5.0000e-8 ┆ 0.0 ┆ … ┆ 2.8692e6    ┆ 1.0439e-42 ┆ 1.3101e-42 ┆ 1.0987e-42 │\n",
       "│ 8.6603e-8 ┆ 9.8528e-8 ┆ 5.0000e-8 ┆ 0.0 ┆ … ┆ 2.8805e6    ┆ 9.6623e-43 ┆ 1.1275e-42 ┆ 1.1714e-42 │\n",
       "│ 8.6603e-8 ┆ 9.9248e-8 ┆ 5.0000e-8 ┆ 0.0 ┆ … ┆ 2.8919e6    ┆ 8.1829e-43 ┆ 9.9498e-43 ┆ 1.2100e-42 │\n",
       "│ 8.6603e-8 ┆ 9.9729e-8 ┆ 5.0000e-8 ┆ 0.0 ┆ … ┆ 2.9033e6    ┆ 1.4731e-42 ┆ 1.5068e-42 ┆ 1.3024e-42 │\n",
       "│ 8.6603e-8 ┆ 9.9970e-8 ┆ 5.0000e-8 ┆ 0.0 ┆ … ┆ 2.9147e6    ┆ 1.3627e-42 ┆ 1.0684e-42 ┆ 1.0307e-42 │\n",
       "└───────────┴───────────┴───────────┴─────┴───┴─────────────┴────────────┴────────────┴────────────┘"
      ]
     },
     "execution_count": 102,
     "metadata": {},
     "output_type": "execute_result"
    }
   ],
   "source": [
    "pl.concat([b_df, p_df.drop(\"time\")], how=\"horizontal\")"
   ]
  },
  {
   "cell_type": "code",
   "execution_count": null,
   "metadata": {},
   "outputs": [],
   "source": [
    "ds.domain_dimensions"
   ]
  },
  {
   "cell_type": "code",
   "execution_count": null,
   "metadata": {},
   "outputs": [],
   "source": [
    "df_part"
   ]
  },
  {
   "cell_type": "code",
   "execution_count": null,
   "metadata": {},
   "outputs": [],
   "source": [
    "df_part.plot(x=\"z\", y=\"time\")"
   ]
  },
  {
   "cell_type": "markdown",
   "metadata": {},
   "source": [
    "### yt"
   ]
  },
  {
   "cell_type": "code",
   "execution_count": null,
   "metadata": {},
   "outputs": [],
   "source": [
    "ts: SimulationTimeSeries = yt.load('diags/diag1??????')\n",
    "# ts = yt.load('./diags/diag???0032')"
   ]
  },
  {
   "cell_type": "code",
   "execution_count": null,
   "metadata": {},
   "outputs": [],
   "source": [
    "def plot(ds, normalize = True, **kwargs):\n",
    "    ad = ds.all_data()\n",
    "    fields = [\"Bx\", \"By\", \"Bz\"]\n",
    "\n",
    "    match meta[\"dim\"]:\n",
    "        case 1: pos = \"x\"\n",
    "        case 2: pos = \"y\"\n",
    "        \n",
    "    pos = ad[pos]\n",
    "    \n",
    "    if normalize:\n",
    "        pos = pos / meta['d_i']\n",
    "    \n",
    "    for field in fields:\n",
    "        plt.plot(pos, ad[field], label=field, **kwargs)\n",
    "    \n",
    "    plt.xlabel(\"x ($d_i$)\")\n",
    "        \n",
    "def hodogram(ds, comp1=\"By\", comp2=\"Bz\"):\n",
    "    time = ds.current_time\n",
    "    time_norm = time.value / meta['t_ci']\n",
    "    ad = ds.all_data()\n",
    "    plt.plot(ad[comp1], ad[comp2], label=f\"t={time_norm:.2f}\")\n",
    "    plt.xlabel(comp1)\n",
    "    plt.ylabel(comp2)"
   ]
  },
  {
   "cell_type": "code",
   "execution_count": null,
   "metadata": {},
   "outputs": [],
   "source": [
    "for i, ds in enumerate(ts):\n",
    "    alpha = (i + 1) / (len(ts)+1)\n",
    "    plot(ds, alpha=alpha)\n",
    "    plt.show()  # Show each plot separately"
   ]
  },
  {
   "cell_type": "code",
   "execution_count": null,
   "metadata": {},
   "outputs": [],
   "source": [
    "i = 4\n",
    "_ts = ts[0:i]\n",
    "for i, ds in enumerate(_ts):\n",
    "    alpha = (i + 1) / (len(_ts)+1)\n",
    "    plot(ds, alpha=alpha)\n",
    "    plt.show()  # Show each plot separately"
   ]
  },
  {
   "cell_type": "code",
   "execution_count": null,
   "metadata": {},
   "outputs": [],
   "source": [
    "for ds in ts:\n",
    "    hodogram(ds)\n",
    "    plt.legend()"
   ]
  },
  {
   "cell_type": "code",
   "execution_count": null,
   "metadata": {},
   "outputs": [],
   "source": [
    "i = 5\n",
    "for ds in ts[0:i]:\n",
    "    hodogram(ds)\n",
    "    plt.legend()"
   ]
  },
  {
   "cell_type": "code",
   "execution_count": null,
   "metadata": {},
   "outputs": [],
   "source": [
    "yt.SlicePlot(ds, \"z\", (\"boxlib\", \"Bz\"))"
   ]
  },
  {
   "cell_type": "code",
   "execution_count": null,
   "metadata": {},
   "outputs": [],
   "source": [
    "ds.all_data()"
   ]
  },
  {
   "cell_type": "code",
   "execution_count": null,
   "metadata": {},
   "outputs": [],
   "source": [
    "fields = [\n",
    "    (\"Bx\"),\n",
    "    (\"By\"),\n",
    "    (\"Bz\"),\n",
    "    (\"mesh\", \"magnetic_field_strength\"),\n",
    "]"
   ]
  },
  {
   "cell_type": "code",
   "execution_count": null,
   "metadata": {},
   "outputs": [],
   "source": [
    "for ds in ts.piter():\n",
    "    p = yt.plot_2d(ds, fields=fields)\n",
    "    p.set_log(fields, False)\n",
    "    fig = p.export_to_mpl_figure((2, 2))\n",
    "    fig.tight_layout()\n",
    "    fig.savefig(f\"figures/{ds}_magnetic_field.png\")"
   ]
  },
  {
   "cell_type": "markdown",
   "metadata": {},
   "source": [
    "### Average magnetic field"
   ]
  },
  {
   "cell_type": "code",
   "execution_count": null,
   "metadata": {},
   "outputs": [],
   "source": [
    "def plot_avg(ds):\n",
    "    fields = [\n",
    "        (\"Bx\"),\n",
    "        (\"By\"),\n",
    "        (\"Bz\"),\n",
    "    ]\n",
    "\n",
    "    ad = ds.all_data()\n",
    "    df = ad.to_dataframe(fields + [\"x\", zaxis])\n",
    "    # compute the magnetic field strength\n",
    "    df = df.assign(B=lambda x: (x.Bx**2 + x.By**2 + x.Bz**2) ** 0.5)\n",
    "\n",
    "    axes = df.groupby(zaxis).mean().plot(y=fields + [\"B\"], subplots=True)\n",
    "    return axes[0].figure"
   ]
  },
  {
   "cell_type": "code",
   "execution_count": null,
   "metadata": {},
   "outputs": [],
   "source": [
    "def plot_avg_ts(i):\n",
    "    return plot_avg(ts[i])\n",
    "    \n",
    "time_widget = pn.widgets.IntSlider(name=\"Time\", value=1, start=0, end=len(ts)-1)\n",
    "bound_plot = pn.bind(plot_avg_ts, i=time_widget)\n",
    "\n",
    "pn.Column(time_widget, bound_plot)"
   ]
  },
  {
   "cell_type": "code",
   "execution_count": null,
   "metadata": {},
   "outputs": [],
   "source": [
    "for ds in ts.piter():\n",
    "    plot_avg(ds)"
   ]
  },
  {
   "cell_type": "code",
   "execution_count": null,
   "metadata": {},
   "outputs": [],
   "source": [
    "ds.print_stats()\n",
    "print(ds.field_list)"
   ]
  },
  {
   "cell_type": "code",
   "execution_count": null,
   "metadata": {},
   "outputs": [],
   "source": [
    "grid = ds.r[:,:,:]\n",
    "obj = grid.to_xarray(fields=fields)"
   ]
  }
 ],
 "metadata": {
  "kernelspec": {
   "display_name": "Python 3",
   "language": "python",
   "name": "python3"
  },
  "language_info": {
   "codemirror_mode": {
    "name": "ipython",
    "version": 3
   },
   "file_extension": ".py",
   "mimetype": "text/x-python",
   "name": "python",
   "nbconvert_exporter": "python",
   "pygments_lexer": "ipython3",
   "version": "3.11.8"
  }
 },
 "nbformat": 4,
 "nbformat_minor": 2
}
