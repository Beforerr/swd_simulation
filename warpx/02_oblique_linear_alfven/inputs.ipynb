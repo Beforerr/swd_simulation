{
 "cells": [
  {
   "cell_type": "code",
   "execution_count": null,
   "metadata": {},
   "outputs": [],
   "source": [
    "import numpy as np\n",
    "from pywarpx import picmi\n",
    "\n",
    "from utils import cosd, sind\n",
    "from space_analysis.simulation.warpx import HybridSimulation"
   ]
  },
  {
   "cell_type": "code",
   "execution_count": null,
   "metadata": {},
   "outputs": [],
   "source": [
    "constants = picmi.constants"
   ]
  },
  {
   "cell_type": "markdown",
   "metadata": {},
   "source": [
    "Support `gaussian_parse_momentum_function`?\n"
   ]
  },
  {
   "cell_type": "code",
   "execution_count": null,
   "metadata": {},
   "outputs": [],
   "source": [
    "def init_field_with_plasma(\n",
    "    k,\n",
    "    B0,\n",
    "    A,  #: relative amplitude\n",
    "    theta,\n",
    "    vA,\n",
    "    n0,\n",
    "):\n",
    "    \"\"\"\n",
    "    Generate field with a wave propagating along the x axis at a large angle `theta` with respect to the background magnetic field lying in the x-z plane.\n",
    "\n",
    "    The initial waveis an Alfven mode in which the magnetic field fluctuation points along the y and z axis and has a relative amplitude $A = \\delta B_y / B_0$\n",
    "    \"\"\"\n",
    "\n",
    "    B0k = B0 * cosd(theta)\n",
    "    B0k1 = B0 * sind(theta)\n",
    "\n",
    "    Bz_expression = f\"{B0k}\"\n",
    "    By_expression = f\"{A * B0} * cos({k} * z)\"\n",
    "    Bx_expression = f\"{B0k1}\"\n",
    "    pz_expression = 0\n",
    "    px_expression = 0\n",
    "    py_expression = f\"{A * vA} * cos({k} * z)\"\n",
    "        \n",
    "    field = picmi.AnalyticInitialField(\n",
    "        Bx_expression=Bx_expression,\n",
    "        By_expression=By_expression,\n",
    "        Bz_expression=Bz_expression,\n",
    "    )\n",
    "    \n",
    "    momentum_expressions = [px_expression, py_expression, pz_expression]\n",
    "    dist = picmi.AnalyticDistribution(\n",
    "        density_expression=n0,\n",
    "        momentum_expressions=momentum_expressions,\n",
    "    )\n",
    "\n",
    "    return field, dist"
   ]
  },
  {
   "cell_type": "code",
   "execution_count": null,
   "metadata": {},
   "outputs": [],
   "source": [
    "class AlfvenModes(HybridSimulation):\n",
    "    test: bool = True\n",
    "    # Applied field parameters\n",
    "    dim: int = 2\n",
    "    B0: float = 100 * 1e-9\n",
    "    \"\"\"Initial magnetic field strength (T)\"\"\"\n",
    "    n0: float = 100 * 1e6\n",
    "    \"\"\"Initial plasma density (m^-3)\"\"\"\n",
    "\n",
    "    A: float = 0.5  # relative amplitude\n",
    "    theta: float = 10  # angle with respect to the background magnetic field\n",
    "    wave_number: int = 3  # wave number\n",
    "\n",
    "    # Spatial domain\n",
    "    Lz_norm: float = 128\n",
    "    Lx_norm: float = 64\n",
    "\n",
    "    def model_post_init(self, __context):\n",
    "        \"\"\"Get input parameters for the specific case desired.\"\"\"\n",
    "        if self.test:\n",
    "            self.m_ion_norm = 100\n",
    "\n",
    "        super().model_post_init(__context)\n",
    "\n",
    "        self.k = self.wave_number * 2 * np.pi / self.Lz\n",
    "        self.setup_run()\n",
    "        self.dump()\n",
    "\n",
    "    def setup_field(self):\n",
    "        \"\"\"Setup external field\"\"\"\n",
    "\n",
    "        B_ext, _ = init_field_with_plasma(\n",
    "            k=self.k,\n",
    "            B0=self.B0,\n",
    "            A=self.A,\n",
    "            theta=self.theta,\n",
    "            vA=self.vA,\n",
    "            n0=self.n0,\n",
    "        )\n",
    "        self._sim.add_applied_field(B_ext)\n",
    "        return self\n",
    "\n",
    "    def setup_particle(self):\n",
    "        \"\"\"setup the particle\"\"\"\n",
    "\n",
    "        _, dist = init_field_with_plasma(\n",
    "            k=self.k,\n",
    "            B0=self.B0,\n",
    "            A=self.A,\n",
    "            theta=self.theta,\n",
    "            vA=self.vA,\n",
    "            n0=self.n0,\n",
    "        )\n",
    "\n",
    "        ions = picmi.Species(\n",
    "            name=\"ions\",\n",
    "            charge_state=1,\n",
    "            mass=self.m_ion,\n",
    "            initial_distribution=dist,\n",
    "        )\n",
    "\n",
    "        self._sim.add_species(\n",
    "            ions,\n",
    "            layout=picmi.PseudoRandomLayout(\n",
    "                grid=self._grid, n_macroparticles_per_cell=self.nppc\n",
    "            ),\n",
    "        )\n",
    "        return self"
   ]
  },
  {
   "cell_type": "code",
   "execution_count": null,
   "metadata": {},
   "outputs": [],
   "source": [
    "simulation = AlfvenModes(\n",
    "    dim=2,\n",
    "    theta=0,\n",
    ")\n",
    "simulation._sim.write_input_file()"
   ]
  },
  {
   "cell_type": "code",
   "execution_count": null,
   "metadata": {},
   "outputs": [],
   "source": [
    "simulation._sim.step()"
   ]
  }
 ],
 "metadata": {
  "kernelspec": {
   "display_name": "Python 3",
   "language": "python",
   "name": "python3"
  },
  "language_info": {
   "codemirror_mode": {
    "name": "ipython",
    "version": 3
   },
   "file_extension": ".py",
   "mimetype": "text/x-python",
   "name": "python",
   "nbconvert_exporter": "python",
   "pygments_lexer": "ipython3",
   "version": "3.11.8"
  }
 },
 "nbformat": 4,
 "nbformat_minor": 2
}
