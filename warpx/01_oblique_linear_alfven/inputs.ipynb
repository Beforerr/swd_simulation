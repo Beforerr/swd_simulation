{
 "cells": [
  {
   "cell_type": "markdown",
   "metadata": {},
   "source": [
    "## Oblique linearly polarized Alfvén wave\n",
    "\n",
    "References:\n",
    "\n",
    "- @vasquezMakingAlfvenicFluctuation1996\n",
    "\n",
    "> We now consider hybrid simulations (see Vasquez [1995] for details of the code) of the evolution of an initially linearly polarized . Alfven wave train with A = 0.3 and traveling at OB = 60°. We choose a small wavenumher of 0.025(c/w¢) -1 where c/wm is an ion inertial length. At this wavenumber ion wave dispersion is negligible over the total simulation time. In the simulation box, 4 cycles of this wave will be included. Time in the simulation is normalized to an ion gyrocycle ft. In units of (c/c~)f~, the Alfvdn speed is 1, and the speed of the wave train is cos 60° = 0.5. The wave period is 502 ft-1. Electrons are treated as an isothermal fluid with temperature Te. Ions are assigned a Maxwellian velocity distribution with the bulk speed of an Alfvdn wave and temperature Ti equal to 2\",. The total plasma /3 ks taken to be 0.275. We are especially concerned here with small/3 since this condition characterizes re~ons near the Sun. The isothermal sound speed corresponding to this/3 is 0.37, and this value will be used for c, to evaluate Equations (8)-(9). Evaluated in this way, the correspondence with the simulations is close but not exact because ions in a hybrid simulation do not obey a predetermined equation of state.\n",
    "\n",
    "Notes:\n",
    "\n",
    "- There seems to have an initialization problem for 1D simulation.\n",
    "\n",
    "TODO:\n",
    "\n",
    "- $\\gamma$ in `warpx_momentum_spread_expressions`"
   ]
  },
  {
   "cell_type": "code",
   "execution_count": 1,
   "metadata": {},
   "outputs": [],
   "source": [
    "import numpy as np\n",
    "from pywarpx import picmi\n",
    "from space_analysis.utils.math import cosd, sind\n",
    "from space_analysis.simulation.warpx import HybridSimulation\n",
    "import os\n",
    "from pathlib import Path"
   ]
  },
  {
   "cell_type": "code",
   "execution_count": 2,
   "metadata": {},
   "outputs": [],
   "source": [
    "constants = picmi.constants"
   ]
  },
  {
   "cell_type": "code",
   "execution_count": 3,
   "metadata": {},
   "outputs": [],
   "source": [
    "def init_obl_alfven(\n",
    "    k,\n",
    "    B0,\n",
    "    A,  #: relative amplitude\n",
    "    theta,\n",
    "    vA,\n",
    "    n0,\n",
    "    v_ti, #: ion thermal velocity\n",
    "):\n",
    "    \"\"\"\n",
    "    Generate field and distribution for an oblique linearly polarized Alfven wave.\n",
    "    \n",
    "    Note: field with a wave propagating along the z axis at a large angle `theta` with respect to the background magnetic field lying in the x-z plane.\n",
    "\n",
    "    The initial waveis an Alfven mode in which the magnetic field fluctuation points along the y and z axis and has a relative amplitude $A = \\delta B_y / B_0$\n",
    "    \"\"\"\n",
    "\n",
    "    B0k = B0 * cosd(theta)\n",
    "    B0k1 = B0 * sind(theta)\n",
    "\n",
    "    Bz_expression = f\"{B0k}\"\n",
    "    By_expression = f\"{A * B0} * cos({k} * z)\"\n",
    "    Bx_expression = f\"{B0k1}\"\n",
    "    pz_expression = 0\n",
    "    px_expression = 0\n",
    "    py_expression = f\"{A * vA * cosd(theta)} * cos({k} * z)\"\n",
    "        \n",
    "    field = picmi.AnalyticInitialField(\n",
    "        Bx_expression=Bx_expression,\n",
    "        By_expression=By_expression,\n",
    "        Bz_expression=Bz_expression,\n",
    "    )\n",
    "    \n",
    "    momentum_expressions = [px_expression, py_expression, pz_expression]\n",
    "    rms_velocity = [v_ti, v_ti, v_ti]\n",
    "    dist = picmi.AnalyticDistribution(\n",
    "        density_expression=n0,\n",
    "        momentum_expressions=momentum_expressions,\n",
    "        warpx_momentum_spread_expressions=rms_velocity,\n",
    "    )\n",
    "\n",
    "    return field, dist"
   ]
  },
  {
   "cell_type": "code",
   "execution_count": 4,
   "metadata": {},
   "outputs": [],
   "source": [
    "class AlfvenModes(HybridSimulation):\n",
    "    # Applied field parameters\n",
    "    dim: int = 1\n",
    "    B0: float = 100 * 1e-9\n",
    "    \"\"\"Initial magnetic field strength (T)\"\"\"\n",
    "    n0: float = 100 * 1e6\n",
    "    \"\"\"Initial plasma density (m^-3)\"\"\"\n",
    "\n",
    "    A: float = 0.5  # relative amplitude\n",
    "    theta: float = 0  # angle with respect to the background magnetic field\n",
    "    wave_number: int = 4  # wave number\n",
    "\n",
    "    # Spatial domain\n",
    "    Lz_norm: float = 256\n",
    "    Lx_norm: float = 16 # blocking_factor is 8 so at 16\n",
    "    Ly_norm: float = 16 \n",
    "\n",
    "    def setup_init_cond(self):\n",
    "        \"\"\"setup initial conditions\"\"\"\n",
    "        self.k = 2 * np.pi / (self.Lz / self.wave_number)  # angular wavenumber\n",
    "\n",
    "        B_ext, dist = init_obl_alfven(\n",
    "            k=self.k,\n",
    "            B0=self.B0,\n",
    "            A=self.A,\n",
    "            theta=self.theta,\n",
    "            vA=self.vA,\n",
    "            n0=self.n0,\n",
    "            v_ti=self.v_ti,\n",
    "        )\n",
    "        self._B_ext = B_ext\n",
    "        self._dist = dist\n",
    "\n",
    "        return self"
   ]
  },
  {
   "cell_type": "code",
   "execution_count": 5,
   "metadata": {},
   "outputs": [],
   "source": [
    "dim = 1\n",
    "dim = 2\n",
    "dim = 3\n",
    "beta = 0.25\n",
    "theta = 60\n",
    "\n",
    "base_dir = Path(os.getcwd())\n",
    "sub_dir = f\"dim_{dim}_beta_{beta}_theta_{theta}\"\n",
    "directory = base_dir / sub_dir"
   ]
  },
  {
   "cell_type": "code",
   "execution_count": 6,
   "metadata": {},
   "outputs": [
    {
     "name": "stdout",
     "output_type": "stream",
     "text": [
      "Numerical parameters:\n",
      "\tdt = 1.8e-02 s\n",
      "\ttotal steps = 800\n",
      "\n",
      "Numerical parameters (Hybrid):\n",
      "\ttotal simulation time = 100.0 (t_ci)\n",
      "\ttime step = 0.125 (t_ci)\n",
      "\tCFL (with substeps) condition = 0.02\n",
      "\n",
      "Initializing simulation with input parameters:\n",
      "\tTe = 61.931 eV\n",
      "\tn = 1.0e+02 cm^-3\n",
      "\tB0 = 100.00 nT\n",
      "\tM/m = 400\n",
      "\n",
      "Plasma parameters:\n",
      "\td_i = 1.1e+04 m\n",
      "\tt_ci = 1.4e-01 s\n",
      "\tv_ti = 1.7e+05 m/s\n",
      "\tvA = 4.7e+05 m/s\n",
      "\tvA/c = 0.0015568891097689005\n",
      "\n"
     ]
    }
   ],
   "source": [
    "os.makedirs(directory, exist_ok=True)\n",
    "os.chdir(directory)\n",
    "\n",
    "simulation = AlfvenModes(\n",
    "    dim=dim,\n",
    "    beta=beta,\n",
    "    theta=theta,\n",
    "    substeps=32,\n",
    "    nppc=256,\n",
    "    dz_norm=2,\n",
    "    dt_norm=0.125,\n",
    "    diag_part=True,\n",
    "    plasma_resistivity=0,\n",
    ")"
   ]
  },
  {
   "cell_type": "code",
   "execution_count": 7,
   "metadata": {},
   "outputs": [
    {
     "data": {
      "text/plain": [
       "0.00390625"
      ]
     },
     "execution_count": 7,
     "metadata": {},
     "output_type": "execute_result"
    }
   ],
   "source": [
    "simulation.dt_norm"
   ]
  },
  {
   "cell_type": "code",
   "execution_count": 10,
   "metadata": {},
   "outputs": [
    {
     "name": "stdout",
     "output_type": "stream",
     "text": [
      "wavenumer (1 / ion inertial length): 0.09817477042468103\n"
     ]
    },
    {
     "data": {
      "text/plain": [
       "10.236719248384558"
      ]
     },
     "execution_count": 10,
     "metadata": {},
     "output_type": "execute_result"
    }
   ],
   "source": [
    "# wavenumber\n",
    "print(\"wavenumer (1 / ion inertial length):\", simulation.k * simulation.d_i)\n",
    "\n",
    "# wave period\n",
    "w = simulation.k * simulation.vA\n",
    "t_w = 2 * np.pi / w\n",
    "t_w_norm = t_w / simulation.t_ci\n",
    "t_w_norm"
   ]
  },
  {
   "cell_type": "code",
   "execution_count": null,
   "metadata": {},
   "outputs": [],
   "source": [
    "simulation._sim.step()"
   ]
  }
 ],
 "metadata": {
  "kernelspec": {
   "display_name": "Python 3",
   "language": "python",
   "name": "python3"
  },
  "language_info": {
   "codemirror_mode": {
    "name": "ipython",
    "version": 3
   },
   "file_extension": ".py",
   "mimetype": "text/x-python",
   "name": "python",
   "nbconvert_exporter": "python",
   "pygments_lexer": "ipython3",
   "version": "3.11.8"
  }
 },
 "nbformat": 4,
 "nbformat_minor": 2
}
